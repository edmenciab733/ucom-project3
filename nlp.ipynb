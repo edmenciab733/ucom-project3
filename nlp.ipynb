{
  "nbformat": 4,
  "nbformat_minor": 0,
  "metadata": {
    "colab": {
      "name": "nlp.ipynb",
      "provenance": [],
      "collapsed_sections": [],
      "toc_visible": true,
      "include_colab_link": true
    },
    "kernelspec": {
      "display_name": "Python 3",
      "name": "python3"
    }
  },
  "cells": [
    {
      "cell_type": "markdown",
      "metadata": {
        "id": "view-in-github",
        "colab_type": "text"
      },
      "source": [
        "<a href=\"https://colab.research.google.com/github/edmenciab733/ucom-project3/blob/main/nlp.ipynb\" target=\"_parent\"><img src=\"https://colab.research.google.com/assets/colab-badge.svg\" alt=\"Open In Colab\"/></a>"
      ]
    },
    {
      "cell_type": "markdown",
      "metadata": {
        "id": "8oXJ6bHdteDM"
      },
      "source": [
        "# Aspectos Generales\n",
        "\n",
        "\n"
      ]
    },
    {
      "cell_type": "code",
      "metadata": {
        "id": "niwOlD1l11go"
      },
      "source": [
        "import pandas as pd\n",
        "from  google.colab import drive "
      ],
      "execution_count": 1,
      "outputs": []
    },
    {
      "cell_type": "code",
      "metadata": {
        "colab": {
          "base_uri": "https://localhost:8080/"
        },
        "id": "CX9yX6zGApJX",
        "outputId": "56107580-df23-4d80-8ca8-3644c5d37412"
      },
      "source": [
        "drive.mount(\"/content/drive\")"
      ],
      "execution_count": 2,
      "outputs": [
        {
          "output_type": "stream",
          "text": [
            "Mounted at /content/drive\n"
          ],
          "name": "stdout"
        }
      ]
    },
    {
      "cell_type": "code",
      "metadata": {
        "id": "78aKZGxAAw_w"
      },
      "source": [
        "data = pd.read_csv(\"/content/drive/My Drive/ML/reviews_original.csv\", sep=\"|\",  engine=\"python\")"
      ],
      "execution_count": 3,
      "outputs": []
    },
    {
      "cell_type": "code",
      "metadata": {
        "colab": {
          "base_uri": "https://localhost:8080/",
          "height": 204
        },
        "id": "aMrN2yu0CtMf",
        "outputId": "b383ae01-86b8-4f22-9b98-1e08d6650afe"
      },
      "source": [
        "from sklearn.utils import shuffle\n",
        "df_test = shuffle(data)\n",
        "\n",
        "df_test.head()"
      ],
      "execution_count": 5,
      "outputs": [
        {
          "output_type": "execute_result",
          "data": {
            "text/html": [
              "<div>\n",
              "<style scoped>\n",
              "    .dataframe tbody tr th:only-of-type {\n",
              "        vertical-align: middle;\n",
              "    }\n",
              "\n",
              "    .dataframe tbody tr th {\n",
              "        vertical-align: top;\n",
              "    }\n",
              "\n",
              "    .dataframe thead th {\n",
              "        text-align: right;\n",
              "    }\n",
              "</style>\n",
              "<table border=\"1\" class=\"dataframe\">\n",
              "  <thead>\n",
              "    <tr style=\"text-align: right;\">\n",
              "      <th></th>\n",
              "      <th>estrella</th>\n",
              "      <th>texto</th>\n",
              "      <th>lugar</th>\n",
              "    </tr>\n",
              "  </thead>\n",
              "  <tbody>\n",
              "    <tr>\n",
              "      <th>391</th>\n",
              "      <td>30</td>\n",
              "      <td>es un lugar bonito y sencillo. no hay lujos ni...</td>\n",
              "      <td>palacio</td>\n",
              "    </tr>\n",
              "    <tr>\n",
              "      <th>3109</th>\n",
              "      <td>50</td>\n",
              "      <td>Ideal para pasar el dia en familia y con amigo...</td>\n",
              "      <td>botanico</td>\n",
              "    </tr>\n",
              "    <tr>\n",
              "      <th>1262</th>\n",
              "      <td>40</td>\n",
              "      <td>me parece genial el lugar para las actividades...</td>\n",
              "      <td>costanera</td>\n",
              "    </tr>\n",
              "    <tr>\n",
              "      <th>2753</th>\n",
              "      <td>40</td>\n",
              "      <td>Ambiente tranquilo, con musica que invita a pa...</td>\n",
              "      <td>la_galeria</td>\n",
              "    </tr>\n",
              "    <tr>\n",
              "      <th>4022</th>\n",
              "      <td>50</td>\n",
              "      <td>Estar en al zona de la triple frontera, ir a C...</td>\n",
              "      <td>itaipu</td>\n",
              "    </tr>\n",
              "  </tbody>\n",
              "</table>\n",
              "</div>"
            ],
            "text/plain": [
              "      estrella                                              texto       lugar\n",
              "391         30  es un lugar bonito y sencillo. no hay lujos ni...     palacio\n",
              "3109        50  Ideal para pasar el dia en familia y con amigo...    botanico\n",
              "1262        40  me parece genial el lugar para las actividades...   costanera\n",
              "2753        40  Ambiente tranquilo, con musica que invita a pa...  la_galeria\n",
              "4022        50  Estar en al zona de la triple frontera, ir a C...      itaipu"
            ]
          },
          "metadata": {
            "tags": []
          },
          "execution_count": 5
        }
      ]
    },
    {
      "cell_type": "code",
      "metadata": {
        "id": "rdjsevpZGPO2"
      },
      "source": [
        "import matplotlib.pyplot as plt"
      ],
      "execution_count": 7,
      "outputs": []
    },
    {
      "cell_type": "code",
      "metadata": {
        "colab": {
          "base_uri": "https://localhost:8080/",
          "height": 333
        },
        "id": "Zt-nTmKpHqJS",
        "outputId": "5d0de2ff-9804-4fd0-a819-ac36f7a3513b"
      },
      "source": [
        "plt.hist(data['estrella'], color = \"orange\", lw=0)"
      ],
      "execution_count": 11,
      "outputs": [
        {
          "output_type": "execute_result",
          "data": {
            "text/plain": [
              "(array([  88.,    0.,  180.,    0.,    0.,  975.,    0., 2122.,    0.,\n",
              "        2648.]),\n",
              " array([10., 14., 18., 22., 26., 30., 34., 38., 42., 46., 50.]),\n",
              " <a list of 10 Patch objects>)"
            ]
          },
          "metadata": {
            "tags": []
          },
          "execution_count": 11
        },
        {
          "output_type": "display_data",
          "data": {
            "image/png": "[encoded data removed]",
            "text/plain": [
              "<Figure size 432x288 with 1 Axes>"
            ]
          },
          "metadata": {
            "tags": [],
            "needs_background": "light"
          }
        }
      ]
    },
    {
      "cell_type": "code",
      "metadata": {
        "colab": {
          "base_uri": "https://localhost:8080/",
          "height": 204
        },
        "id": "c2QoKMqWKMOs",
        "outputId": "b5be98b6-81ad-4201-fd64-8df2a5a89d87"
      },
      "source": [
        "data['texto'] = data['texto'].str.strip()\n",
        "data.head()"
      ],
      "execution_count": null,
      "outputs": [
        {
          "output_type": "execute_result",
          "data": {
            "text/html": [
              "<div>\n",
              "<style scoped>\n",
              "    .dataframe tbody tr th:only-of-type {\n",
              "        vertical-align: middle;\n",
              "    }\n",
              "\n",
              "    .dataframe tbody tr th {\n",
              "        vertical-align: top;\n",
              "    }\n",
              "\n",
              "    .dataframe thead th {\n",
              "        text-align: right;\n",
              "    }\n",
              "</style>\n",
              "<table border=\"1\" class=\"dataframe\">\n",
              "  <thead>\n",
              "    <tr style=\"text-align: right;\">\n",
              "      <th></th>\n",
              "      <th>estrella</th>\n",
              "      <th>texto</th>\n",
              "      <th>lugar</th>\n",
              "    </tr>\n",
              "  </thead>\n",
              "  <tbody>\n",
              "    <tr>\n",
              "      <th>0</th>\n",
              "      <td>40</td>\n",
              "      <td>Abierto durante el dia normalment con alguien ...</td>\n",
              "      <td>recoleta</td>\n",
              "    </tr>\n",
              "    <tr>\n",
              "      <th>1</th>\n",
              "      <td>10</td>\n",
              "      <td>No se puede creer que un lugar historico y emb...</td>\n",
              "      <td>recoleta</td>\n",
              "    </tr>\n",
              "    <tr>\n",
              "      <th>2</th>\n",
              "      <td>40</td>\n",
              "      <td>Este cementerio esta ubicado en el corazon de ...</td>\n",
              "      <td>recoleta</td>\n",
              "    </tr>\n",
              "    <tr>\n",
              "      <th>3</th>\n",
              "      <td>30</td>\n",
              "      <td>La iglesia y el cementerio de antaño, recomend...</td>\n",
              "      <td>recoleta</td>\n",
              "    </tr>\n",
              "    <tr>\n",
              "      <th>4</th>\n",
              "      <td>20</td>\n",
              "      <td>Con el correr del tiempo y el rapido crecimien...</td>\n",
              "      <td>recoleta</td>\n",
              "    </tr>\n",
              "  </tbody>\n",
              "</table>\n",
              "</div>"
            ],
            "text/plain": [
              "   estrella                                              texto     lugar\n",
              "0        40  Abierto durante el dia normalment con alguien ...  recoleta\n",
              "1        10  No se puede creer que un lugar historico y emb...  recoleta\n",
              "2        40  Este cementerio esta ubicado en el corazon de ...  recoleta\n",
              "3        30  La iglesia y el cementerio de antaño, recomend...  recoleta\n",
              "4        20  Con el correr del tiempo y el rapido crecimien...  recoleta"
            ]
          },
          "metadata": {
            "tags": []
          },
          "execution_count": 32
        }
      ]
    },
    {
      "cell_type": "code",
      "metadata": {
        "id": "vK84hWwwmkk-"
      },
      "source": [
        "from sklearn.model_selection import train_test_split\n",
        "def my_train_test_split(x, y):\n",
        "  \n",
        "  X_train, X_test, y_train, y_test = train_test_split(x, y, test_size=0.30, random_state=42)\n",
        "  return X_train, X_test, y_train, y_test"
      ],
      "execution_count": null,
      "outputs": []
    },
    {
      "cell_type": "code",
      "metadata": {
        "colab": {
          "base_uri": "https://localhost:8080/",
          "height": 204
        },
        "id": "ahnSZ8X8nAbU",
        "outputId": "c2e1f7fb-51d9-4e9a-ad8e-1ce5d5c2f98d"
      },
      "source": [
        "data.head()\n",
        "data_10 = data[data.estrella.eq(10)] \n",
        "data_20 = data[data.estrella.eq(20)]\n",
        "data_30 = data[data.estrella.eq(30)] \n",
        "data_40 = data[data.estrella.eq(40)] \n",
        "data_50=  data[data.estrella.eq(50)] \n",
        "data_50.head()\n"
      ],
      "execution_count": null,
      "outputs": [
        {
          "output_type": "execute_result",
          "data": {
            "text/html": [
              "<div>\n",
              "<style scoped>\n",
              "    .dataframe tbody tr th:only-of-type {\n",
              "        vertical-align: middle;\n",
              "    }\n",
              "\n",
              "    .dataframe tbody tr th {\n",
              "        vertical-align: top;\n",
              "    }\n",
              "\n",
              "    .dataframe thead th {\n",
              "        text-align: right;\n",
              "    }\n",
              "</style>\n",
              "<table border=\"1\" class=\"dataframe\">\n",
              "  <thead>\n",
              "    <tr style=\"text-align: right;\">\n",
              "      <th></th>\n",
              "      <th>estrella</th>\n",
              "      <th>texto</th>\n",
              "      <th>lugar</th>\n",
              "    </tr>\n",
              "  </thead>\n",
              "  <tbody>\n",
              "    <tr>\n",
              "      <th>8</th>\n",
              "      <td>50</td>\n",
              "      <td>Hay que estar atentos al Tour historico que of...</td>\n",
              "      <td>recoleta</td>\n",
              "    </tr>\n",
              "    <tr>\n",
              "      <th>11</th>\n",
              "      <td>50</td>\n",
              "      <td>El cementerio de La Recoleta es el mas tradici...</td>\n",
              "      <td>recoleta</td>\n",
              "    </tr>\n",
              "    <tr>\n",
              "      <th>14</th>\n",
              "      <td>50</td>\n",
              "      <td>El cementerio mas renombrado del pais por sus ...</td>\n",
              "      <td>recoleta</td>\n",
              "    </tr>\n",
              "    <tr>\n",
              "      <th>20</th>\n",
              "      <td>50</td>\n",
              "      <td>Es un lugar interesante para visitar, puedes v...</td>\n",
              "      <td>recoleta</td>\n",
              "    </tr>\n",
              "    <tr>\n",
              "      <th>22</th>\n",
              "      <td>50</td>\n",
              "      <td>Luego visitaremos este cementerio. Ver las dif...</td>\n",
              "      <td>recoleta</td>\n",
              "    </tr>\n",
              "  </tbody>\n",
              "</table>\n",
              "</div>"
            ],
            "text/plain": [
              "    estrella                                              texto     lugar\n",
              "8         50  Hay que estar atentos al Tour historico que of...  recoleta\n",
              "11        50  El cementerio de La Recoleta es el mas tradici...  recoleta\n",
              "14        50  El cementerio mas renombrado del pais por sus ...  recoleta\n",
              "20        50  Es un lugar interesante para visitar, puedes v...  recoleta\n",
              "22        50  Luego visitaremos este cementerio. Ver las dif...  recoleta"
            ]
          },
          "metadata": {
            "tags": []
          },
          "execution_count": 34
        }
      ]
    },
    {
      "cell_type": "code",
      "metadata": {
        "id": "WV__mSVlmsif"
      },
      "source": [
        "#X_train, X_test, y_train, y_test = []\n",
        "\n",
        "#10\n",
        "aux = data_10[data_10.estrella.eq(10)]\n",
        "X_train10, X_test10, y_train10, y_test10 = my_train_test_split(aux[['texto', 'lugar']], aux[\"estrella\"])\n",
        "\n",
        "#20\n",
        "aux = data_20[data_20.estrella.eq(20)]\n",
        "X_train20, X_test20, y_train20, y_test20 = my_train_test_split(aux[['texto', 'lugar']], aux[\"estrella\"])\n",
        "\n",
        "#30\n",
        "aux = data_30[data_30.estrella.eq(30)]\n",
        "X_train30, X_test30, y_train30, y_test30 = my_train_test_split(aux[['texto', 'lugar']], aux[\"estrella\"])\n",
        "\n",
        "\n",
        "#40\n",
        "aux = data_40[data_40.estrella.eq(40)]\n",
        "X_train40, X_test40, y_train40, y_test40 = my_train_test_split(aux[['texto', 'lugar']], aux[\"estrella\"])\n",
        "\n",
        "#50\n",
        "aux = data_50[data_50.estrella.eq(50)]\n",
        "X_train50, X_test50, y_train50, y_test50 = my_train_test_split(aux[['texto', 'lugar']], aux[\"estrella\"])\n",
        "\n",
        "\n",
        "\n",
        "data_train_x = pd.concat([X_train10, X_train20, X_train30, X_train40, X_train50], axis=0)\n",
        "data_test_x = pd.concat([X_test10, X_test20, X_test30, X_test40,X_test50] , axis=0)\n",
        "data_train_y = pd.concat([y_train10, y_train20, y_train30, y_train40, y_train50], axis=0)\n",
        "data_test_y = pd.concat([y_test10, y_test20, y_test30, y_test40,y_test50] , axis=0)\n",
        "data_train = pd.concat([data_train_x, data_train_y] , axis=1)\n",
        "data_test = pd.concat([data_test_x, data_test_y] , axis=1)\n"
      ],
      "execution_count": null,
      "outputs": []
    },
    {
      "cell_type": "code",
      "metadata": {
        "id": "4ujmH5n_ixho"
      },
      "source": [
        "start = 3\n",
        "data_labels_train = data_train.estrella.values\n",
        "data_labels_train[data_labels_train == 10] = 0\n",
        "data_labels_train[data_labels_train == 20] = 0\n",
        "data_labels_train[data_labels_train == 30] = 0\n",
        "data_labels_train[data_labels_train == 40] = 1\n",
        "data_labels_train[data_labels_train == 50] = 2\n",
        "\n",
        "data_labels_test = data_test.estrella.values\n",
        "data_labels_test[data_labels_test == 10] = 0\n",
        "data_labels_test[data_labels_test == 20] = 0\n",
        "data_labels_test[data_labels_test == 30] = 0\n",
        "data_labels_test[data_labels_test == 40] = 1\n",
        "data_labels_test[data_labels_test == 50] = 2"
      ],
      "execution_count": null,
      "outputs": []
    },
    {
      "cell_type": "markdown",
      "metadata": {
        "id": "toE1-eF42emH"
      },
      "source": [
        "# Limpieza de los datos"
      ]
    },
    {
      "cell_type": "code",
      "metadata": {
        "id": "tkLwGtePPTqX"
      },
      "source": [
        "from bs4 import BeautifulSoup\n",
        "import re\n",
        "def normalize(s):\n",
        "    replacements = (\n",
        "        (\"á\", \"a\"),\n",
        "        (\"é\", \"e\"),\n",
        "        (\"í\", \"i\"),\n",
        "        (\"ó\", \"o\"),\n",
        "        (\"ú\", \"u\"),\n",
        "    )\n",
        "    for a, b in replacements:\n",
        "        s = s.replace(a, b).replace(a.upper(), b.upper())\n",
        "    return s\n",
        "\n",
        "def limpiar_texto(text):\n",
        "  text = re.sub(r'^RT[\\s]+', '', text)\n",
        "  text = re.sub(r'https?:\\/\\/.*[\\r\\n]*', '', text)\n",
        "  text = re.sub(r'#', '', text)\n",
        "  text = re.sub(r'@[A-Za-z0-9]+', '', text)\n",
        "  return text\n",
        "\n",
        "def clean_text(text):\n",
        "    text = BeautifulSoup(text, \"lxml\").get_text()\n",
        "    # Eliminamos la @ y su mención\n",
        "    text = re.sub(r\"@[A-Za-z0-9]+\", ' ', text)\n",
        "    # Eliminamos los links de las URLs\n",
        "    text = re.sub(r\"https?://[A-Za-z0-9./]+\", ' ', text)\n",
        "    # Nos quedamos solamente con los caracteres\n",
        "    text = re.sub(r\"\\.\\.?\\.?\\s?\", ' ', text)\n",
        "    text = re.sub('([A-Za-z])\\,([A-Za-z])', '\\\\1, \\\\2', text)\n",
        "    text = re.sub('([A-Za-z])\\!([A-Za-z])', '\\\\1! \\\\2', text)\n",
        "    text = re.sub(r\"[^a-zA-ZñÑ.!?']\", ' ', text)\n",
        "    # Eliminamos espacios en blanco adicionales\n",
        "    text = re.sub(r\" +\", ' ', text)\n",
        "    text = text.lower()\n",
        "    text = normalize(text)\n",
        "    return text"
      ],
      "execution_count": null,
      "outputs": []
    },
    {
      "cell_type": "code",
      "metadata": {
        "id": "lNk4eDGCQI9z"
      },
      "source": [
        "data_clean_train = [clean_text(text) for text in data_train['texto']]\n",
        "data_clean_test = [clean_text(text) for text in data_test['texto']]"
      ],
      "execution_count": null,
      "outputs": []
    },
    {
      "cell_type": "code",
      "metadata": {
        "colab": {
          "base_uri": "https://localhost:8080/",
          "height": 35
        },
        "id": "qog3BXR7R3lU",
        "outputId": "a234503b-a5eb-4430-f1e2-1ac951840111"
      },
      "source": [
        "data_train.iloc[1006][\"texto\"]"
      ],
      "execution_count": null,
      "outputs": [
        {
          "output_type": "execute_result",
          "data": {
            "application/vnd.google.colaboratory.intrinsic+json": {
              "type": "string"
            },
            "text/plain": [
              "'Solo la recorrimos en automovil, es una zona nueva que se esta desarrollando, con zona para caminar y playa .'"
            ]
          },
          "metadata": {
            "tags": []
          },
          "execution_count": 39
        }
      ]
    },
    {
      "cell_type": "code",
      "metadata": {
        "colab": {
          "base_uri": "https://localhost:8080/",
          "height": 35
        },
        "id": "t5sX3tANcY9C",
        "outputId": "b31b1940-efc5-4e39-fb5c-5dac3cc5217a"
      },
      "source": [
        " data_clean_train[1006]"
      ],
      "execution_count": null,
      "outputs": [
        {
          "output_type": "execute_result",
          "data": {
            "application/vnd.google.colaboratory.intrinsic+json": {
              "type": "string"
            },
            "text/plain": [
              "'solo la recorrimos en automovil es una zona nueva que se esta desarrollando con zona para caminar y playa '"
            ]
          },
          "metadata": {
            "tags": []
          },
          "execution_count": 40
        }
      ]
    },
    {
      "cell_type": "markdown",
      "metadata": {
        "id": "U9HWWJI021iF"
      },
      "source": [
        "#Tokenizacion"
      ]
    },
    {
      "cell_type": "code",
      "metadata": {
        "colab": {
          "base_uri": "https://localhost:8080/"
        },
        "id": "TgcODhIMVB3_",
        "outputId": "64ebf4fe-e349-4245-e8bb-e86c00530f86"
      },
      "source": [
        "import string\n",
        "import nltk\n",
        "nltk.download('stopwords')\n",
        "from nltk.corpus import stopwords\n",
        "from collections import Counter"
      ],
      "execution_count": null,
      "outputs": [
        {
          "output_type": "stream",
          "text": [
            "[nltk_data] Downloading package stopwords to /root/nltk_data...\n",
            "[nltk_data]   Package stopwords is already up-to-date!\n"
          ],
          "name": "stdout"
        }
      ]
    },
    {
      "cell_type": "code",
      "metadata": {
        "id": "1mAVgCYyRnPz"
      },
      "source": [
        "def create_bagWords(text):\n",
        "  tokens = text.split()\n",
        "  tokens = set(tokens)\n",
        "  re_punc = re.compile('[%s]' % re.escape(string.punctuation))\n",
        "  tokens = [re_punc.sub('', w) for w in tokens]\n",
        "  tokens = [word for word in tokens if word.isalpha()]\n",
        "  stop_words = set(stopwords.words('spanish'))\n",
        "  tokens = [w for w in tokens if not w in stop_words]\n",
        "  tokens = [word for word in tokens if len(word) > 1]\n",
        "  return tokens"
      ],
      "execution_count": null,
      "outputs": []
    },
    {
      "cell_type": "markdown",
      "metadata": {
        "id": "5PUVc3wxappF"
      },
      "source": [
        "## Creación del vocabulario"
      ]
    },
    {
      "cell_type": "code",
      "metadata": {
        "id": "fi5O2hsQVBaa",
        "colab": {
          "base_uri": "https://localhost:8080/"
        },
        "outputId": "35a96de6-1f71-4f74-dafd-0af2c1014a10"
      },
      "source": [
        "bagWords = []\n",
        "for text in data_clean_train + data_clean_test:\n",
        "  bagWords.append( create_bagWords(text))\n",
        "bagWords[1]"
      ],
      "execution_count": null,
      "outputs": [
        {
          "output_type": "execute_result",
          "data": {
            "text/plain": [
              "['chozas',\n",
              " 'inhumanas',\n",
              " 'triste',\n",
              " 'vivien',\n",
              " 'mundo',\n",
              " 'copan',\n",
              " 'minimas',\n",
              " 'cientos',\n",
              " 'armado',\n",
              " 'plaza',\n",
              " 'espacios',\n",
              " 'viven',\n",
              " 'muchas',\n",
              " 'sirvio',\n",
              " 'ahi',\n",
              " 'humanas',\n",
              " 'baño',\n",
              " 'hija',\n",
              " 'condiciones',\n",
              " 'vive',\n",
              " 'lamentablemente',\n",
              " 'niños',\n",
              " 'bolsas',\n",
              " 'mostrarle',\n",
              " 'personas',\n",
              " 'visita',\n",
              " 'basura',\n",
              " 'carpas']"
            ]
          },
          "metadata": {
            "tags": []
          },
          "execution_count": 43
        }
      ]
    },
    {
      "cell_type": "code",
      "metadata": {
        "id": "0ybIgicGh4LU"
      },
      "source": [
        "vocab = Counter()\n",
        "for token in bagWords:\n",
        "    vocab.update(token)"
      ],
      "execution_count": null,
      "outputs": []
    },
    {
      "cell_type": "code",
      "metadata": {
        "colab": {
          "base_uri": "https://localhost:8080/"
        },
        "id": "GdXI3_Xljk1T",
        "outputId": "7ee8e726-4aa5-486b-be11-584b4843b41c"
      },
      "source": [
        "print(\"Vocabulario Total del corpus: \"+ str(len(vocab)))\n",
        "# Imprimir las palabras principales en el vocabulario\n",
        "print(vocab.most_common(20))\n",
        "min_occurrence = 3\n",
        "my_vocabs = [k for k,c in vocab.items() if c >= min_occurrence]\n",
        "print(\"Vocabulario Optimizado del corpus: \"+ str(len(my_vocabs)))"
      ],
      "execution_count": null,
      "outputs": [
        {
          "output_type": "stream",
          "text": [
            "Vocabulario Total del corpus: 13533\n",
            "[('lugar', 1789), ('mas', 1192), ('asuncion', 1053), ('si', 935), ('bien', 809), ('ciudad', 728), ('paraguay', 723), ('puede', 700), ('visita', 685), ('paseo', 620), ('pena', 590), ('ver', 587), ('centro', 538), ('visitar', 527), ('ir', 517), ('historia', 507), ('solo', 506), ('vale', 499), ('costanera', 491), ('rio', 473)]\n",
            "Vocabulario Optimizado del corpus: 5038\n"
          ],
          "name": "stdout"
        }
      ]
    },
    {
      "cell_type": "code",
      "metadata": {
        "id": "05ZJ1I7foEsx"
      },
      "source": [
        "my_vocabs = set(my_vocabs)"
      ],
      "execution_count": null,
      "outputs": []
    },
    {
      "cell_type": "markdown",
      "metadata": {
        "id": "SOp9JXZlbLKl"
      },
      "source": [
        "##Construcción de una matriz de representacion de texto\n"
      ]
    },
    {
      "cell_type": "code",
      "metadata": {
        "id": "eL2owUeigYZ-",
        "colab": {
          "base_uri": "https://localhost:8080/"
        },
        "outputId": "78fc0101-349f-4518-ae60-e697c81971ea"
      },
      "source": [
        "def clean_data_filter_vocab(text):\n",
        "  tokens = create_bagWords(text)\n",
        "  tokens = [w for w in tokens if w in my_vocabs]\n",
        "  return ' '.join(tokens)\n",
        "\n",
        "docs_clean_test = [clean_data_filter_vocab(text) for text in data_clean_test]\n",
        "docs_clean_train = [clean_data_filter_vocab(text) for text in data_clean_train]\n",
        "docs_clean_train[:10], data_labels_train[:10]"
      ],
      "execution_count": null,
      "outputs": [
        {
          "output_type": "execute_result",
          "data": {
            "text/plain": [
              "(['pena indigenas necesidades ocupada hacen',\n",
              "  'triste mundo cientos armado plaza espacios viven muchas sirvio ahi baño hija condiciones vive lamentablemente niños bolsas personas visita basura carpas',\n",
              "  'deberia punto ejemplo cuidada plaza estrategico gusta mal tan ser verdad centro',\n",
              "  'abren lugar puertas si gusta olvidar san casas anda rapidamente observar vender cualquier loma geronimo ver cosa pobreza',\n",
              "  'vecinos parecio llena experiencia comunes seguro mala casas llegar sitio admirar ubicacion ningun',\n",
              "  'atardecer tranquila bahia cerca pueden tambien caminata lugar excelente hermoso ciclismo apreciar barcos',\n",
              "  'definitivamente lugar mas abandonada solo tour sola caso area ir centro ver mejor',\n",
              "  'tantas paraguayas ambulantes puestos cuidado parece jardineria van plazas sucias llenas comerciantes',\n",
              "  'dejado horrible carteles lugar justo verg existen adentro unas alrededor encanto dio lado enero orgullo pareja verdad perimetro anteriores desorganizado llevar veces',\n",
              "  'calle comida entiendo fotos dejaron si sacar bueno cambio shopping locales bien todavia ciudad camara unico atraccion quise economicos torres hacia seguridad'],\n",
              " array([0, 0, 0, 0, 0, 0, 0, 0, 0, 0]))"
            ]
          },
          "metadata": {
            "tags": []
          },
          "execution_count": 47
        }
      ]
    },
    {
      "cell_type": "code",
      "metadata": {
        "id": "79AVYQej2P68"
      },
      "source": [
        "try:\n",
        "    %tensorflow_version 2.x\n",
        "except Exception:\n",
        "    pass\n",
        "import tensorflow as tf\n",
        "\n",
        "from tensorflow.keras import layers\n",
        "import tensorflow_datasets as tfds"
      ],
      "execution_count": null,
      "outputs": []
    },
    {
      "cell_type": "code",
      "metadata": {
        "id": "mAGXqo1axRre"
      },
      "source": [
        "from keras.preprocessing.text import Tokenizer\n",
        "def create_tokenizer(docs):\n",
        " tokenizer = Tokenizer()\n",
        " tokenizer.fit_on_texts(docs)\n",
        " return tokenizer"
      ],
      "execution_count": null,
      "outputs": []
    },
    {
      "cell_type": "code",
      "metadata": {
        "colab": {
          "base_uri": "https://localhost:8080/"
        },
        "id": "o5Y1SwaNqetQ",
        "outputId": "d7ac726b-2925-4594-e8d7-854b18724ae8"
      },
      "source": [
        "tokenizer = create_tokenizer(docs_clean_train)\n",
        "# codificar datos\n",
        "X_trainToken = tokenizer.texts_to_matrix(docs_clean_train, mode='freq')\n",
        "X_testToken = tokenizer.texts_to_matrix(docs_clean_test, mode='freq')\n",
        "print(\"Vector-Documento del tamaño: \"+ str(len(X_trainToken[0])))\n",
        "for i, j  in enumerate(X_trainToken[0]):\n",
        "  if j > 0:\n",
        "    print(i, j)"
      ],
      "execution_count": null,
      "outputs": [
        {
          "output_type": "stream",
          "text": [
            "Vector-Documento del tamaño: 5008\n",
            "11 0.2\n",
            "250 0.2\n",
            "461 0.2\n",
            "1786 0.2\n",
            "2269 0.2\n"
          ],
          "name": "stdout"
        }
      ]
    },
    {
      "cell_type": "markdown",
      "metadata": {
        "id": "kvwCze_L7Ne0"
      },
      "source": [
        "# Construcción del Modelo - Bolsa de Palabras"
      ]
    },
    {
      "cell_type": "code",
      "metadata": {
        "id": "5jIy_6o9y9hI"
      },
      "source": [
        "from keras.utils.vis_utils import plot_model\n",
        "from keras.models import Sequential\n",
        "\n",
        "from keras.layers import Dense, Dropout\n",
        "def define_model(n_words, start):\n",
        "    if start == 2:\n",
        "      activation = 'sigmoid'\n",
        "      loss = 'binary_crossentropy'\n",
        "      start = 1\n",
        "    else:\n",
        "      activation = 'softmax'\n",
        "      loss = 'sparse_categorical_crossentropy'\n",
        "    # definir la red\n",
        "    model = Sequential()\n",
        "    model.add(Dense(50, input_shape=(n_words,), activation='relu'))\n",
        "    model.add(Dropout(0.2))\n",
        "    model.add(Dense(128, input_shape=(n_words,), activation='relu'))\n",
        "    model.add(Dropout(0.2))\n",
        "    model.add(Dense(start, activation=activation))\n",
        "\n",
        "\n",
        "    # compilar la red\n",
        "    model.compile(loss=loss, optimizer='adam', metrics=['accuracy'])\n",
        "    # resumir el modelo definido\n",
        "    model.summary()\n",
        "    plot_model(model, to_file='model_1.png', show_shapes=True)\n",
        "    return model"
      ],
      "execution_count": null,
      "outputs": []
    },
    {
      "cell_type": "code",
      "metadata": {
        "id": "0cAphXUTLEEP"
      },
      "source": [
        "import numpy as np\n",
        "import matplotlib.pyplot as plt\n",
        "import matplotlib.image as mpimg\n",
        "def show_image(path):\n",
        "  img = mpimg.imread(path)\n",
        "  plt.figure(figsize=(8,10))\n",
        "  imgplot = plt.imshow(img)\n",
        "  plt.show()\n"
      ],
      "execution_count": null,
      "outputs": []
    },
    {
      "cell_type": "code",
      "metadata": {
        "colab": {
          "base_uri": "https://localhost:8080/",
          "height": 1000
        },
        "id": "3RkQ9aHJ-cPk",
        "outputId": "d88687c8-3fe1-4bcf-9497-c862493ef277"
      },
      "source": [
        "n_words = X_testToken.shape[1]\n",
        "print(X_trainToken.shape, data_labels_train.shape)\n",
        "model = define_model(n_words, start)\n",
        "# red adecuada\n",
        "model.fit(X_trainToken, data_labels_train, epochs=7, verbose=2)\n",
        "show_image('model_1.png')"
      ],
      "execution_count": null,
      "outputs": [
        {
          "output_type": "stream",
          "text": [
            "(4207, 5008) (4207,)\n",
            "Model: \"sequential\"\n",
            "_________________________________________________________________\n",
            "Layer (type)                 Output Shape              Param #   \n",
            "=================================================================\n",
            "dense (Dense)                (None, 50)                250450    \n",
            "_________________________________________________________________\n",
            "dropout (Dropout)            (None, 50)                0         \n",
            "_________________________________________________________________\n",
            "dense_1 (Dense)              (None, 128)               6528      \n",
            "_________________________________________________________________\n",
            "dropout_1 (Dropout)          (None, 128)               0         \n",
            "_________________________________________________________________\n",
            "dense_2 (Dense)              (None, 1)                 129       \n",
            "=================================================================\n",
            "Total params: 257,107\n",
            "Trainable params: 257,107\n",
            "Non-trainable params: 0\n",
            "_________________________________________________________________\n",
            "Epoch 1/7\n",
            "132/132 - 1s - loss: 0.5292 - accuracy: 0.7920\n",
            "Epoch 2/7\n",
            "132/132 - 1s - loss: 0.4323 - accuracy: 0.7953\n",
            "Epoch 3/7\n",
            "132/132 - 0s - loss: 0.2990 - accuracy: 0.8764\n",
            "Epoch 4/7\n",
            "132/132 - 1s - loss: 0.1931 - accuracy: 0.9287\n",
            "Epoch 5/7\n",
            "132/132 - 1s - loss: 0.1334 - accuracy: 0.9510\n",
            "Epoch 6/7\n",
            "132/132 - 1s - loss: 0.0832 - accuracy: 0.9760\n",
            "Epoch 7/7\n",
            "132/132 - 1s - loss: 0.0512 - accuracy: 0.9865\n"
          ],
          "name": "stdout"
        },
        {
          "output_type": "display_data",
          "data": {
            "image/png": "[encoded data removed]",
            "text/plain": [
              "<Figure size 576x720 with 1 Axes>"
            ]
          },
          "metadata": {
            "tags": [],
            "needs_background": "light"
          }
        }
      ]
    },
    {
      "cell_type": "code",
      "metadata": {
        "colab": {
          "base_uri": "https://localhost:8080/"
        },
        "id": "fS4ksmNpt7Cy",
        "outputId": "e12c0139-1bee-434e-a218-0f6b094dec37"
      },
      "source": [
        "# evaluar\n",
        "loss, acc = model.evaluate(X_testToken, data_labels_test, verbose=0)\n",
        "print('Precision del Test: %f' % (acc*100))"
      ],
      "execution_count": null,
      "outputs": [
        {
          "output_type": "stream",
          "text": [
            "Precision del Test: 81.672204\n"
          ],
          "name": "stdout"
        }
      ]
    },
    {
      "cell_type": "markdown",
      "metadata": {
        "id": "E6-RHkXN7rUm"
      },
      "source": [
        "Resultado del Modelo - Bolsa de Palabras"
      ]
    },
    {
      "cell_type": "code",
      "metadata": {
        "colab": {
          "base_uri": "https://localhost:8080/",
          "height": 819
        },
        "id": "u5ausZE-b8T9",
        "outputId": "c9923a3a-8147-4090-9ca0-26698d63d78d"
      },
      "source": [
        "def predict_text(text, tokenizer, start):\n",
        "  print(text)\n",
        "  text = clean_text(text)\n",
        "  text = clean_data_filter_vocab(text)\n",
        "  encoded = tokenizer.texts_to_matrix([text], mode='freq')\n",
        "  yhat = model.predict(encoded, verbose=0)\n",
        "  yhat = yhat.reshape( start -1, 1)\n",
        "  yhat = [print(i* 100) for i in yhat]\n",
        "\n",
        "text = 'El lugar es muy sucio e inseguro'\n",
        "\n",
        "result  = predict_text(text, tokenizer, start)\n",
        "\n",
        "\n",
        "text = 'Excelente lugar, atencion de calidad'\n",
        "result  = predict_text(text, tokenizer, start)\n",
        "\n",
        "\n",
        "text = 'Horrible experiencia, es muy chico y no se puede estar mucho tiempo'\n",
        "result  = predict_text(text, tokenizer, start)\n",
        "\n",
        "\n",
        "text = 'El lugar es agradable pero muy caluroso, ya que casi no hay sombras lo que hace que sea insoportable estar mucho tiempo'\n",
        "result  = predict_text(text, tokenizer, start)"
      ],
      "execution_count": null,
      "outputs": [
        {
          "output_type": "stream",
          "text": [
            "El lugar es muy sucio e inseguro\n",
            "WARNING:tensorflow:Model was constructed with shape (None, 528) for input Tensor(\"input_1:0\", shape=(None, 528), dtype=float32), but it was called on an input with incompatible shape (None, 11699).\n"
          ],
          "name": "stdout"
        },
        {
          "output_type": "error",
          "ename": "AssertionError",
          "evalue": "ignored",
          "traceback": [
            "\u001b[0;31m---------------------------------------------------------------------------\u001b[0m",
            "\u001b[0;31mAssertionError\u001b[0m                            Traceback (most recent call last)",
            "\u001b[0;32m<ipython-input-64-58d1df7a09e6>\u001b[0m in \u001b[0;36m<module>\u001b[0;34m()\u001b[0m\n\u001b[1;32m     10\u001b[0m \u001b[0mtext\u001b[0m \u001b[0;34m=\u001b[0m \u001b[0;34m'El lugar es muy sucio e inseguro'\u001b[0m\u001b[0;34m\u001b[0m\u001b[0;34m\u001b[0m\u001b[0m\n\u001b[1;32m     11\u001b[0m \u001b[0;34m\u001b[0m\u001b[0m\n\u001b[0;32m---> 12\u001b[0;31m \u001b[0mresult\u001b[0m  \u001b[0;34m=\u001b[0m \u001b[0mpredict_text\u001b[0m\u001b[0;34m(\u001b[0m\u001b[0mtext\u001b[0m\u001b[0;34m,\u001b[0m \u001b[0mtokenizer\u001b[0m\u001b[0;34m,\u001b[0m \u001b[0mstart\u001b[0m\u001b[0;34m)\u001b[0m\u001b[0;34m\u001b[0m\u001b[0;34m\u001b[0m\u001b[0m\n\u001b[0m\u001b[1;32m     13\u001b[0m \u001b[0;34m\u001b[0m\u001b[0m\n\u001b[1;32m     14\u001b[0m \u001b[0;34m\u001b[0m\u001b[0m\n",
            "\u001b[0;32m<ipython-input-64-58d1df7a09e6>\u001b[0m in \u001b[0;36mpredict_text\u001b[0;34m(text, tokenizer, start)\u001b[0m\n\u001b[1;32m      4\u001b[0m   \u001b[0mtext\u001b[0m \u001b[0;34m=\u001b[0m \u001b[0mclean_data_filter_vocab\u001b[0m\u001b[0;34m(\u001b[0m\u001b[0mtext\u001b[0m\u001b[0;34m)\u001b[0m\u001b[0;34m\u001b[0m\u001b[0;34m\u001b[0m\u001b[0m\n\u001b[1;32m      5\u001b[0m   \u001b[0mencoded\u001b[0m \u001b[0;34m=\u001b[0m \u001b[0mtokenizer\u001b[0m\u001b[0;34m.\u001b[0m\u001b[0mtexts_to_matrix\u001b[0m\u001b[0;34m(\u001b[0m\u001b[0;34m[\u001b[0m\u001b[0mtext\u001b[0m\u001b[0;34m]\u001b[0m\u001b[0;34m,\u001b[0m \u001b[0mmode\u001b[0m\u001b[0;34m=\u001b[0m\u001b[0;34m'freq'\u001b[0m\u001b[0;34m)\u001b[0m\u001b[0;34m\u001b[0m\u001b[0;34m\u001b[0m\u001b[0m\n\u001b[0;32m----> 6\u001b[0;31m   \u001b[0myhat\u001b[0m \u001b[0;34m=\u001b[0m \u001b[0mmodel\u001b[0m\u001b[0;34m.\u001b[0m\u001b[0mpredict\u001b[0m\u001b[0;34m(\u001b[0m\u001b[0mencoded\u001b[0m\u001b[0;34m,\u001b[0m \u001b[0mverbose\u001b[0m\u001b[0;34m=\u001b[0m\u001b[0;36m0\u001b[0m\u001b[0;34m)\u001b[0m\u001b[0;34m\u001b[0m\u001b[0;34m\u001b[0m\u001b[0m\n\u001b[0m\u001b[1;32m      7\u001b[0m   \u001b[0myhat\u001b[0m \u001b[0;34m=\u001b[0m \u001b[0myhat\u001b[0m\u001b[0;34m.\u001b[0m\u001b[0mreshape\u001b[0m\u001b[0;34m(\u001b[0m \u001b[0mstart\u001b[0m \u001b[0;34m-\u001b[0m\u001b[0;36m1\u001b[0m\u001b[0;34m,\u001b[0m \u001b[0;36m1\u001b[0m\u001b[0;34m)\u001b[0m\u001b[0;34m\u001b[0m\u001b[0;34m\u001b[0m\u001b[0m\n\u001b[1;32m      8\u001b[0m   \u001b[0myhat\u001b[0m \u001b[0;34m=\u001b[0m \u001b[0;34m[\u001b[0m\u001b[0mprint\u001b[0m\u001b[0;34m(\u001b[0m\u001b[0mi\u001b[0m\u001b[0;34m*\u001b[0m \u001b[0;36m100\u001b[0m\u001b[0;34m)\u001b[0m \u001b[0;32mfor\u001b[0m \u001b[0mi\u001b[0m \u001b[0;32min\u001b[0m \u001b[0myhat\u001b[0m\u001b[0;34m]\u001b[0m\u001b[0;34m\u001b[0m\u001b[0;34m\u001b[0m\u001b[0m\n",
            "\u001b[0;32m/usr/local/lib/python3.6/dist-packages/tensorflow/python/keras/engine/training.py\u001b[0m in \u001b[0;36m_method_wrapper\u001b[0;34m(self, *args, **kwargs)\u001b[0m\n\u001b[1;32m    128\u001b[0m       raise ValueError('{} is not supported in multi-worker mode.'.format(\n\u001b[1;32m    129\u001b[0m           method.__name__))\n\u001b[0;32m--> 130\u001b[0;31m     \u001b[0;32mreturn\u001b[0m \u001b[0mmethod\u001b[0m\u001b[0;34m(\u001b[0m\u001b[0mself\u001b[0m\u001b[0;34m,\u001b[0m \u001b[0;34m*\u001b[0m\u001b[0margs\u001b[0m\u001b[0;34m,\u001b[0m \u001b[0;34m**\u001b[0m\u001b[0mkwargs\u001b[0m\u001b[0;34m)\u001b[0m\u001b[0;34m\u001b[0m\u001b[0;34m\u001b[0m\u001b[0m\n\u001b[0m\u001b[1;32m    131\u001b[0m \u001b[0;34m\u001b[0m\u001b[0m\n\u001b[1;32m    132\u001b[0m   return tf_decorator.make_decorator(\n",
            "\u001b[0;32m/usr/local/lib/python3.6/dist-packages/tensorflow/python/keras/engine/training.py\u001b[0m in \u001b[0;36mpredict\u001b[0;34m(self, x, batch_size, verbose, steps, callbacks, max_queue_size, workers, use_multiprocessing)\u001b[0m\n\u001b[1;32m   1597\u001b[0m           \u001b[0;32mfor\u001b[0m \u001b[0mstep\u001b[0m \u001b[0;32min\u001b[0m \u001b[0mdata_handler\u001b[0m\u001b[0;34m.\u001b[0m\u001b[0msteps\u001b[0m\u001b[0;34m(\u001b[0m\u001b[0;34m)\u001b[0m\u001b[0;34m:\u001b[0m\u001b[0;34m\u001b[0m\u001b[0;34m\u001b[0m\u001b[0m\n\u001b[1;32m   1598\u001b[0m             \u001b[0mcallbacks\u001b[0m\u001b[0;34m.\u001b[0m\u001b[0mon_predict_batch_begin\u001b[0m\u001b[0;34m(\u001b[0m\u001b[0mstep\u001b[0m\u001b[0;34m)\u001b[0m\u001b[0;34m\u001b[0m\u001b[0;34m\u001b[0m\u001b[0m\n\u001b[0;32m-> 1599\u001b[0;31m             \u001b[0mtmp_batch_outputs\u001b[0m \u001b[0;34m=\u001b[0m \u001b[0mpredict_function\u001b[0m\u001b[0;34m(\u001b[0m\u001b[0miterator\u001b[0m\u001b[0;34m)\u001b[0m\u001b[0;34m\u001b[0m\u001b[0;34m\u001b[0m\u001b[0m\n\u001b[0m\u001b[1;32m   1600\u001b[0m             \u001b[0;32mif\u001b[0m \u001b[0mdata_handler\u001b[0m\u001b[0;34m.\u001b[0m\u001b[0mshould_sync\u001b[0m\u001b[0;34m:\u001b[0m\u001b[0;34m\u001b[0m\u001b[0;34m\u001b[0m\u001b[0m\n\u001b[1;32m   1601\u001b[0m               \u001b[0mcontext\u001b[0m\u001b[0;34m.\u001b[0m\u001b[0masync_wait\u001b[0m\u001b[0;34m(\u001b[0m\u001b[0;34m)\u001b[0m\u001b[0;34m\u001b[0m\u001b[0;34m\u001b[0m\u001b[0m\n",
            "\u001b[0;32m/usr/local/lib/python3.6/dist-packages/tensorflow/python/eager/def_function.py\u001b[0m in \u001b[0;36m__call__\u001b[0;34m(self, *args, **kwds)\u001b[0m\n\u001b[1;32m    778\u001b[0m       \u001b[0;32melse\u001b[0m\u001b[0;34m:\u001b[0m\u001b[0;34m\u001b[0m\u001b[0;34m\u001b[0m\u001b[0m\n\u001b[1;32m    779\u001b[0m         \u001b[0mcompiler\u001b[0m \u001b[0;34m=\u001b[0m \u001b[0;34m\"nonXla\"\u001b[0m\u001b[0;34m\u001b[0m\u001b[0;34m\u001b[0m\u001b[0m\n\u001b[0;32m--> 780\u001b[0;31m         \u001b[0mresult\u001b[0m \u001b[0;34m=\u001b[0m \u001b[0mself\u001b[0m\u001b[0;34m.\u001b[0m\u001b[0m_call\u001b[0m\u001b[0;34m(\u001b[0m\u001b[0;34m*\u001b[0m\u001b[0margs\u001b[0m\u001b[0;34m,\u001b[0m \u001b[0;34m**\u001b[0m\u001b[0mkwds\u001b[0m\u001b[0;34m)\u001b[0m\u001b[0;34m\u001b[0m\u001b[0;34m\u001b[0m\u001b[0m\n\u001b[0m\u001b[1;32m    781\u001b[0m \u001b[0;34m\u001b[0m\u001b[0m\n\u001b[1;32m    782\u001b[0m       \u001b[0mnew_tracing_count\u001b[0m \u001b[0;34m=\u001b[0m \u001b[0mself\u001b[0m\u001b[0;34m.\u001b[0m\u001b[0m_get_tracing_count\u001b[0m\u001b[0;34m(\u001b[0m\u001b[0;34m)\u001b[0m\u001b[0;34m\u001b[0m\u001b[0;34m\u001b[0m\u001b[0m\n",
            "\u001b[0;32m/usr/local/lib/python3.6/dist-packages/tensorflow/python/eager/def_function.py\u001b[0m in \u001b[0;36m_call\u001b[0;34m(self, *args, **kwds)\u001b[0m\n\u001b[1;32m    821\u001b[0m       \u001b[0;31m# This is the first call of __call__, so we have to initialize.\u001b[0m\u001b[0;34m\u001b[0m\u001b[0;34m\u001b[0m\u001b[0;34m\u001b[0m\u001b[0m\n\u001b[1;32m    822\u001b[0m       \u001b[0minitializers\u001b[0m \u001b[0;34m=\u001b[0m \u001b[0;34m[\u001b[0m\u001b[0;34m]\u001b[0m\u001b[0;34m\u001b[0m\u001b[0;34m\u001b[0m\u001b[0m\n\u001b[0;32m--> 823\u001b[0;31m       \u001b[0mself\u001b[0m\u001b[0;34m.\u001b[0m\u001b[0m_initialize\u001b[0m\u001b[0;34m(\u001b[0m\u001b[0margs\u001b[0m\u001b[0;34m,\u001b[0m \u001b[0mkwds\u001b[0m\u001b[0;34m,\u001b[0m \u001b[0madd_initializers_to\u001b[0m\u001b[0;34m=\u001b[0m\u001b[0minitializers\u001b[0m\u001b[0;34m)\u001b[0m\u001b[0;34m\u001b[0m\u001b[0;34m\u001b[0m\u001b[0m\n\u001b[0m\u001b[1;32m    824\u001b[0m     \u001b[0;32mfinally\u001b[0m\u001b[0;34m:\u001b[0m\u001b[0;34m\u001b[0m\u001b[0;34m\u001b[0m\u001b[0m\n\u001b[1;32m    825\u001b[0m       \u001b[0;31m# At this point we know that the initialization is complete (or less\u001b[0m\u001b[0;34m\u001b[0m\u001b[0;34m\u001b[0m\u001b[0;34m\u001b[0m\u001b[0m\n",
            "\u001b[0;32m/usr/local/lib/python3.6/dist-packages/tensorflow/python/eager/def_function.py\u001b[0m in \u001b[0;36m_initialize\u001b[0;34m(self, args, kwds, add_initializers_to)\u001b[0m\n\u001b[1;32m    695\u001b[0m     self._concrete_stateful_fn = (\n\u001b[1;32m    696\u001b[0m         self._stateful_fn._get_concrete_function_internal_garbage_collected(  # pylint: disable=protected-access\n\u001b[0;32m--> 697\u001b[0;31m             *args, **kwds))\n\u001b[0m\u001b[1;32m    698\u001b[0m \u001b[0;34m\u001b[0m\u001b[0m\n\u001b[1;32m    699\u001b[0m     \u001b[0;32mdef\u001b[0m \u001b[0minvalid_creator_scope\u001b[0m\u001b[0;34m(\u001b[0m\u001b[0;34m*\u001b[0m\u001b[0munused_args\u001b[0m\u001b[0;34m,\u001b[0m \u001b[0;34m**\u001b[0m\u001b[0munused_kwds\u001b[0m\u001b[0;34m)\u001b[0m\u001b[0;34m:\u001b[0m\u001b[0;34m\u001b[0m\u001b[0;34m\u001b[0m\u001b[0m\n",
            "\u001b[0;32m/usr/local/lib/python3.6/dist-packages/tensorflow/python/eager/function.py\u001b[0m in \u001b[0;36m_get_concrete_function_internal_garbage_collected\u001b[0;34m(self, *args, **kwargs)\u001b[0m\n\u001b[1;32m   2853\u001b[0m       \u001b[0margs\u001b[0m\u001b[0;34m,\u001b[0m \u001b[0mkwargs\u001b[0m \u001b[0;34m=\u001b[0m \u001b[0;32mNone\u001b[0m\u001b[0;34m,\u001b[0m \u001b[0;32mNone\u001b[0m\u001b[0;34m\u001b[0m\u001b[0;34m\u001b[0m\u001b[0m\n\u001b[1;32m   2854\u001b[0m     \u001b[0;32mwith\u001b[0m \u001b[0mself\u001b[0m\u001b[0;34m.\u001b[0m\u001b[0m_lock\u001b[0m\u001b[0;34m:\u001b[0m\u001b[0;34m\u001b[0m\u001b[0;34m\u001b[0m\u001b[0m\n\u001b[0;32m-> 2855\u001b[0;31m       \u001b[0mgraph_function\u001b[0m\u001b[0;34m,\u001b[0m \u001b[0m_\u001b[0m\u001b[0;34m,\u001b[0m \u001b[0m_\u001b[0m \u001b[0;34m=\u001b[0m \u001b[0mself\u001b[0m\u001b[0;34m.\u001b[0m\u001b[0m_maybe_define_function\u001b[0m\u001b[0;34m(\u001b[0m\u001b[0margs\u001b[0m\u001b[0;34m,\u001b[0m \u001b[0mkwargs\u001b[0m\u001b[0;34m)\u001b[0m\u001b[0;34m\u001b[0m\u001b[0;34m\u001b[0m\u001b[0m\n\u001b[0m\u001b[1;32m   2856\u001b[0m     \u001b[0;32mreturn\u001b[0m \u001b[0mgraph_function\u001b[0m\u001b[0;34m\u001b[0m\u001b[0;34m\u001b[0m\u001b[0m\n\u001b[1;32m   2857\u001b[0m \u001b[0;34m\u001b[0m\u001b[0m\n",
            "\u001b[0;32m/usr/local/lib/python3.6/dist-packages/tensorflow/python/eager/function.py\u001b[0m in \u001b[0;36m_maybe_define_function\u001b[0;34m(self, args, kwargs)\u001b[0m\n\u001b[1;32m   3211\u001b[0m \u001b[0;34m\u001b[0m\u001b[0m\n\u001b[1;32m   3212\u001b[0m       \u001b[0mself\u001b[0m\u001b[0;34m.\u001b[0m\u001b[0m_function_cache\u001b[0m\u001b[0;34m.\u001b[0m\u001b[0mmissed\u001b[0m\u001b[0;34m.\u001b[0m\u001b[0madd\u001b[0m\u001b[0;34m(\u001b[0m\u001b[0mcall_context_key\u001b[0m\u001b[0;34m)\u001b[0m\u001b[0;34m\u001b[0m\u001b[0;34m\u001b[0m\u001b[0m\n\u001b[0;32m-> 3213\u001b[0;31m       \u001b[0mgraph_function\u001b[0m \u001b[0;34m=\u001b[0m \u001b[0mself\u001b[0m\u001b[0;34m.\u001b[0m\u001b[0m_create_graph_function\u001b[0m\u001b[0;34m(\u001b[0m\u001b[0margs\u001b[0m\u001b[0;34m,\u001b[0m \u001b[0mkwargs\u001b[0m\u001b[0;34m)\u001b[0m\u001b[0;34m\u001b[0m\u001b[0;34m\u001b[0m\u001b[0m\n\u001b[0m\u001b[1;32m   3214\u001b[0m       \u001b[0mself\u001b[0m\u001b[0;34m.\u001b[0m\u001b[0m_function_cache\u001b[0m\u001b[0;34m.\u001b[0m\u001b[0mprimary\u001b[0m\u001b[0;34m[\u001b[0m\u001b[0mcache_key\u001b[0m\u001b[0;34m]\u001b[0m \u001b[0;34m=\u001b[0m \u001b[0mgraph_function\u001b[0m\u001b[0;34m\u001b[0m\u001b[0;34m\u001b[0m\u001b[0m\n\u001b[1;32m   3215\u001b[0m       \u001b[0;32mreturn\u001b[0m \u001b[0mgraph_function\u001b[0m\u001b[0;34m,\u001b[0m \u001b[0margs\u001b[0m\u001b[0;34m,\u001b[0m \u001b[0mkwargs\u001b[0m\u001b[0;34m\u001b[0m\u001b[0;34m\u001b[0m\u001b[0m\n",
            "\u001b[0;32m/usr/local/lib/python3.6/dist-packages/tensorflow/python/eager/function.py\u001b[0m in \u001b[0;36m_create_graph_function\u001b[0;34m(self, args, kwargs, override_flat_arg_shapes)\u001b[0m\n\u001b[1;32m   3073\u001b[0m             \u001b[0marg_names\u001b[0m\u001b[0;34m=\u001b[0m\u001b[0marg_names\u001b[0m\u001b[0;34m,\u001b[0m\u001b[0;34m\u001b[0m\u001b[0;34m\u001b[0m\u001b[0m\n\u001b[1;32m   3074\u001b[0m             \u001b[0moverride_flat_arg_shapes\u001b[0m\u001b[0;34m=\u001b[0m\u001b[0moverride_flat_arg_shapes\u001b[0m\u001b[0;34m,\u001b[0m\u001b[0;34m\u001b[0m\u001b[0;34m\u001b[0m\u001b[0m\n\u001b[0;32m-> 3075\u001b[0;31m             capture_by_value=self._capture_by_value),\n\u001b[0m\u001b[1;32m   3076\u001b[0m         \u001b[0mself\u001b[0m\u001b[0;34m.\u001b[0m\u001b[0m_function_attributes\u001b[0m\u001b[0;34m,\u001b[0m\u001b[0;34m\u001b[0m\u001b[0;34m\u001b[0m\u001b[0m\n\u001b[1;32m   3077\u001b[0m         \u001b[0mfunction_spec\u001b[0m\u001b[0;34m=\u001b[0m\u001b[0mself\u001b[0m\u001b[0;34m.\u001b[0m\u001b[0mfunction_spec\u001b[0m\u001b[0;34m,\u001b[0m\u001b[0;34m\u001b[0m\u001b[0;34m\u001b[0m\u001b[0m\n",
            "\u001b[0;32m/usr/local/lib/python3.6/dist-packages/tensorflow/python/framework/func_graph.py\u001b[0m in \u001b[0;36mfunc_graph_from_py_func\u001b[0;34m(name, python_func, args, kwargs, signature, func_graph, autograph, autograph_options, add_control_dependencies, arg_names, op_return_value, collections, capture_by_value, override_flat_arg_shapes)\u001b[0m\n\u001b[1;32m    984\u001b[0m         \u001b[0m_\u001b[0m\u001b[0;34m,\u001b[0m \u001b[0moriginal_func\u001b[0m \u001b[0;34m=\u001b[0m \u001b[0mtf_decorator\u001b[0m\u001b[0;34m.\u001b[0m\u001b[0munwrap\u001b[0m\u001b[0;34m(\u001b[0m\u001b[0mpython_func\u001b[0m\u001b[0;34m)\u001b[0m\u001b[0;34m\u001b[0m\u001b[0;34m\u001b[0m\u001b[0m\n\u001b[1;32m    985\u001b[0m \u001b[0;34m\u001b[0m\u001b[0m\n\u001b[0;32m--> 986\u001b[0;31m       \u001b[0mfunc_outputs\u001b[0m \u001b[0;34m=\u001b[0m \u001b[0mpython_func\u001b[0m\u001b[0;34m(\u001b[0m\u001b[0;34m*\u001b[0m\u001b[0mfunc_args\u001b[0m\u001b[0;34m,\u001b[0m \u001b[0;34m**\u001b[0m\u001b[0mfunc_kwargs\u001b[0m\u001b[0;34m)\u001b[0m\u001b[0;34m\u001b[0m\u001b[0;34m\u001b[0m\u001b[0m\n\u001b[0m\u001b[1;32m    987\u001b[0m \u001b[0;34m\u001b[0m\u001b[0m\n\u001b[1;32m    988\u001b[0m       \u001b[0;31m# invariant: `func_outputs` contains only Tensors, CompositeTensors,\u001b[0m\u001b[0;34m\u001b[0m\u001b[0;34m\u001b[0m\u001b[0;34m\u001b[0m\u001b[0m\n",
            "\u001b[0;32m/usr/local/lib/python3.6/dist-packages/tensorflow/python/eager/def_function.py\u001b[0m in \u001b[0;36mwrapped_fn\u001b[0;34m(*args, **kwds)\u001b[0m\n\u001b[1;32m    598\u001b[0m         \u001b[0;31m# __wrapped__ allows AutoGraph to swap in a converted function. We give\u001b[0m\u001b[0;34m\u001b[0m\u001b[0;34m\u001b[0m\u001b[0;34m\u001b[0m\u001b[0m\n\u001b[1;32m    599\u001b[0m         \u001b[0;31m# the function a weak reference to itself to avoid a reference cycle.\u001b[0m\u001b[0;34m\u001b[0m\u001b[0;34m\u001b[0m\u001b[0;34m\u001b[0m\u001b[0m\n\u001b[0;32m--> 600\u001b[0;31m         \u001b[0;32mreturn\u001b[0m \u001b[0mweak_wrapped_fn\u001b[0m\u001b[0;34m(\u001b[0m\u001b[0;34m)\u001b[0m\u001b[0;34m.\u001b[0m\u001b[0m__wrapped__\u001b[0m\u001b[0;34m(\u001b[0m\u001b[0;34m*\u001b[0m\u001b[0margs\u001b[0m\u001b[0;34m,\u001b[0m \u001b[0;34m**\u001b[0m\u001b[0mkwds\u001b[0m\u001b[0;34m)\u001b[0m\u001b[0;34m\u001b[0m\u001b[0;34m\u001b[0m\u001b[0m\n\u001b[0m\u001b[1;32m    601\u001b[0m     \u001b[0mweak_wrapped_fn\u001b[0m \u001b[0;34m=\u001b[0m \u001b[0mweakref\u001b[0m\u001b[0;34m.\u001b[0m\u001b[0mref\u001b[0m\u001b[0;34m(\u001b[0m\u001b[0mwrapped_fn\u001b[0m\u001b[0;34m)\u001b[0m\u001b[0;34m\u001b[0m\u001b[0;34m\u001b[0m\u001b[0m\n\u001b[1;32m    602\u001b[0m \u001b[0;34m\u001b[0m\u001b[0m\n",
            "\u001b[0;32m/usr/local/lib/python3.6/dist-packages/tensorflow/python/framework/func_graph.py\u001b[0m in \u001b[0;36mwrapper\u001b[0;34m(*args, **kwargs)\u001b[0m\n\u001b[1;32m    971\u001b[0m           \u001b[0;32mexcept\u001b[0m \u001b[0mException\u001b[0m \u001b[0;32mas\u001b[0m \u001b[0me\u001b[0m\u001b[0;34m:\u001b[0m  \u001b[0;31m# pylint:disable=broad-except\u001b[0m\u001b[0;34m\u001b[0m\u001b[0;34m\u001b[0m\u001b[0m\n\u001b[1;32m    972\u001b[0m             \u001b[0;32mif\u001b[0m \u001b[0mhasattr\u001b[0m\u001b[0;34m(\u001b[0m\u001b[0me\u001b[0m\u001b[0;34m,\u001b[0m \u001b[0;34m\"ag_error_metadata\"\u001b[0m\u001b[0;34m)\u001b[0m\u001b[0;34m:\u001b[0m\u001b[0;34m\u001b[0m\u001b[0;34m\u001b[0m\u001b[0m\n\u001b[0;32m--> 973\u001b[0;31m               \u001b[0;32mraise\u001b[0m \u001b[0me\u001b[0m\u001b[0;34m.\u001b[0m\u001b[0mag_error_metadata\u001b[0m\u001b[0;34m.\u001b[0m\u001b[0mto_exception\u001b[0m\u001b[0;34m(\u001b[0m\u001b[0me\u001b[0m\u001b[0;34m)\u001b[0m\u001b[0;34m\u001b[0m\u001b[0;34m\u001b[0m\u001b[0m\n\u001b[0m\u001b[1;32m    974\u001b[0m             \u001b[0;32melse\u001b[0m\u001b[0;34m:\u001b[0m\u001b[0;34m\u001b[0m\u001b[0;34m\u001b[0m\u001b[0m\n\u001b[1;32m    975\u001b[0m               \u001b[0;32mraise\u001b[0m\u001b[0;34m\u001b[0m\u001b[0;34m\u001b[0m\u001b[0m\n",
            "\u001b[0;31mAssertionError\u001b[0m: in user code:\n\n    /usr/local/lib/python3.6/dist-packages/tensorflow/python/keras/engine/training.py:1462 predict_function  *\n        return step_function(self, iterator)\n    /usr/local/lib/python3.6/dist-packages/tensorflow/python/keras/engine/training.py:1452 step_function  **\n        outputs = model.distribute_strategy.run(run_step, args=(data,))\n    /usr/local/lib/python3.6/dist-packages/tensorflow/python/distribute/distribute_lib.py:1211 run\n        return self._extended.call_for_each_replica(fn, args=args, kwargs=kwargs)\n    /usr/local/lib/python3.6/dist-packages/tensorflow/python/distribute/distribute_lib.py:2585 call_for_each_replica\n        return self._call_for_each_replica(fn, args, kwargs)\n    /usr/local/lib/python3.6/dist-packages/tensorflow/python/distribute/distribute_lib.py:2945 _call_for_each_replica\n        return fn(*args, **kwargs)\n    /usr/local/lib/python3.6/dist-packages/tensorflow/python/keras/engine/training.py:1445 run_step  **\n        outputs = model.predict_step(data)\n    /usr/local/lib/python3.6/dist-packages/tensorflow/python/keras/engine/training.py:1418 predict_step\n        return self(x, training=False)\n    /usr/local/lib/python3.6/dist-packages/tensorflow/python/keras/engine/base_layer.py:985 __call__\n        outputs = call_fn(inputs, *args, **kwargs)\n    /usr/local/lib/python3.6/dist-packages/tensorflow/python/keras/engine/functional.py:386 call\n        inputs, training=training, mask=mask)\n    /usr/local/lib/python3.6/dist-packages/tensorflow/python/keras/engine/functional.py:517 _run_internal_graph\n        assert x_id in tensor_dict, 'Could not compute output ' + str(x)\n\n    AssertionError: Could not compute output Tensor(\"dense_4/Sigmoid:0\", shape=(None, 1), dtype=float32)\n"
          ]
        }
      ]
    },
    {
      "cell_type": "markdown",
      "metadata": {
        "id": "x1YJi7jXEFr-"
      },
      "source": [
        "# Construcción del Modelo - Embeddings"
      ]
    },
    {
      "cell_type": "markdown",
      "metadata": {
        "id": "WymKZvziphdm"
      },
      "source": [
        "## Construcción modelo n-grams"
      ]
    },
    {
      "cell_type": "code",
      "metadata": {
        "colab": {
          "base_uri": "https://localhost:8080/"
        },
        "id": "do0zlWeb7efz",
        "outputId": "a2d59ce6-f9ca-4678-d76a-cdbd250409f5"
      },
      "source": [
        "# calcular la longitud máxima del documento\n",
        "def max_length(docs):\n",
        "  max = -999\n",
        "  data_max = []\n",
        "  for i,s in enumerate(docs):\n",
        "    if len(s.split()) > max:\n",
        "      max = len(s.split())\n",
        "      data_max.clear()\n",
        "      data_max.append([max, s[:100], i])\n",
        "\n",
        "  return data_max[0]\n",
        "\n",
        "data_max = max_length(data_clean_train)\n",
        "length = data_max[0]\n",
        "print(data_max)"
      ],
      "execution_count": null,
      "outputs": [
        {
          "output_type": "stream",
          "text": [
            "[528, 'les voy a contar por que no pude visitar el parque nacional ybycui no fue por falta de ganas o predi', 26]\n"
          ],
          "name": "stdout"
        }
      ]
    },
    {
      "cell_type": "code",
      "metadata": {
        "id": "CX8U9-fPAtqA"
      },
      "source": [
        "data_clean_train = [clean_text(text) for text in data_train['texto']]\n",
        "data_clean_test = [clean_text(text) for text in data_test['texto']]\n",
        "tokenizer = create_tokenizer(data_clean_train)"
      ],
      "execution_count": null,
      "outputs": []
    },
    {
      "cell_type": "code",
      "metadata": {
        "colab": {
          "base_uri": "https://localhost:8080/"
        },
        "id": "yQ74fo8GHODi",
        "outputId": "2453c011-fa99-4b7a-c2c4-93a32ceae1a5"
      },
      "source": [
        "vocab_size = len(tokenizer.word_index) + 1\n",
        "print(vocab_size)"
      ],
      "execution_count": null,
      "outputs": [
        {
          "output_type": "stream",
          "text": [
            "11699\n"
          ],
          "name": "stdout"
        }
      ]
    },
    {
      "cell_type": "code",
      "metadata": {
        "id": "iUmj3ck7Hb-Q"
      },
      "source": [
        "# codificar una lista de líneas\n",
        "from keras.preprocessing.sequence import pad_sequences\n",
        "def encode_text(tokenizer, doc, length):\n",
        " # codificación entera\n",
        " encoded = tokenizer.texts_to_sequences(doc)\n",
        " # secuencias codificadas por pads\n",
        " padded = pad_sequences(encoded, maxlen=length, padding='post')\n",
        " return padded"
      ],
      "execution_count": null,
      "outputs": []
    },
    {
      "cell_type": "code",
      "metadata": {
        "colab": {
          "base_uri": "https://localhost:8080/"
        },
        "id": "eDw5tpqrHjyQ",
        "outputId": "37bf2653-cd14-4b4f-a866-b886c12af9fa"
      },
      "source": [
        "trainX = encode_text(tokenizer, data_clean_train, length)\n",
        "print(trainX.shape)"
      ],
      "execution_count": null,
      "outputs": [
        {
          "output_type": "stream",
          "text": [
            "(4207, 528)\n"
          ],
          "name": "stdout"
        }
      ]
    },
    {
      "cell_type": "code",
      "metadata": {
        "id": "GOdT_bjOIOpD"
      },
      "source": [
        "from keras.models import Model\n",
        "from keras.layers import Input\n",
        "from keras.layers import Dense\n",
        "from keras.layers import Flatten\n",
        "from keras.layers import Dropout\n",
        "from keras.layers import Embedding\n",
        "from keras.layers.convolutional import Conv1D\n",
        "from keras.layers.convolutional import MaxPooling1D\n",
        "from keras.layers.merge import concatenate\n",
        "# definir el modelo\n",
        "def define_model(length, vocab_size, embedding_dim, nro_filter, dropout_rate, start):\n",
        "  pool =  MaxPooling1D(pool_size=2)\n",
        "  # canal 1\n",
        "  inputs1 = Input(shape=(length,))\n",
        "  embedding1 = Embedding(vocab_size, embedding_dim)(inputs1)\n",
        "  sixgram = Conv1D(filters=nro_filter, kernel_size=6, activation='relu')(embedding1)\n",
        "  drop1 = Dropout(dropout_rate)(sixgram)\n",
        "  x = pool(drop1)\n",
        "  flat1 = Flatten()(x)\n",
        "  # canal 2\n",
        "  inputs2 = Input(shape=(length,))\n",
        "  embedding2 = Embedding(vocab_size, embedding_dim)(inputs2)\n",
        "  eigthgram = Conv1D(filters=nro_filter, kernel_size=8, activation='relu')(embedding2)\n",
        "  drop2 = Dropout(dropout_rate)(eigthgram)\n",
        "  x = pool(drop2)\n",
        "  flat2 = Flatten()(x)\n",
        " \n",
        "  # canal 3\n",
        "  inputs3 = Input(shape=(length,))\n",
        "  embedding3 = Embedding(vocab_size, embedding_dim)(inputs3)\n",
        "  tengram = Conv1D(filters=nro_filter, kernel_size=10, activation='relu')(embedding3)\n",
        "  drop3 = Dropout(dropout_rate)(tengram)\n",
        "  x = pool(drop3)\n",
        "  flat3 = Flatten()(x)\n",
        "  # unión\n",
        "  merged = concatenate([flat1, flat2, flat3])\n",
        "  # interpretacion\n",
        "  dense2 = Dense(512, activation='relu')(merged)\n",
        "  if start == 2:\n",
        "    activation = 'sigmoid'\n",
        "    loss = 'binary_crossentropy'\n",
        "    start = 1\n",
        "  else:\n",
        "    activation = 'softmax'\n",
        "    loss = 'sparse_categorical_crossentropy'\n",
        "\n",
        "\n",
        "  \n",
        "  outputs = Dense(start, activation=activation)(dense2)\n",
        "  model = Model(inputs=[inputs1, inputs2, inputs3], outputs=outputs)\n",
        "  # compilar\n",
        "  model.compile(loss=loss, optimizer='adam', metrics=['accuracy'])\n",
        "  # resumen\n",
        "  model.summary()\n",
        "  plot_model(model, show_shapes=True, to_file='model_2.png')\n",
        "  return model"
      ],
      "execution_count": null,
      "outputs": []
    },
    {
      "cell_type": "code",
      "metadata": {
        "colab": {
          "base_uri": "https://localhost:8080/"
        },
        "id": "1ggfp_n4IdXA",
        "outputId": "263ee0b7-8954-4754-d2f6-a50fba96a973"
      },
      "source": [
        "model = define_model(length, vocab_size, 32, 15, 0.1, start)\n",
        "model.fit([trainX,trainX,trainX], data_labels_train, epochs=4, batch_size=128)\n",
        "model.save('model.h5')"
      ],
      "execution_count": null,
      "outputs": [
        {
          "output_type": "stream",
          "text": [
            "Model: \"functional_1\"\n",
            "__________________________________________________________________________________________________\n",
            "Layer (type)                    Output Shape         Param #     Connected to                     \n",
            "==================================================================================================\n",
            "input_1 (InputLayer)            [(None, 528)]        0                                            \n",
            "__________________________________________________________________________________________________\n",
            "input_2 (InputLayer)            [(None, 528)]        0                                            \n",
            "__________________________________________________________________________________________________\n",
            "input_3 (InputLayer)            [(None, 528)]        0                                            \n",
            "__________________________________________________________________________________________________\n",
            "embedding (Embedding)           (None, 528, 32)      374368      input_1[0][0]                    \n",
            "__________________________________________________________________________________________________\n",
            "embedding_1 (Embedding)         (None, 528, 32)      374368      input_2[0][0]                    \n",
            "__________________________________________________________________________________________________\n",
            "embedding_2 (Embedding)         (None, 528, 32)      374368      input_3[0][0]                    \n",
            "__________________________________________________________________________________________________\n",
            "conv1d (Conv1D)                 (None, 523, 15)      2895        embedding[0][0]                  \n",
            "__________________________________________________________________________________________________\n",
            "conv1d_1 (Conv1D)               (None, 521, 15)      3855        embedding_1[0][0]                \n",
            "__________________________________________________________________________________________________\n",
            "conv1d_2 (Conv1D)               (None, 519, 15)      4815        embedding_2[0][0]                \n",
            "__________________________________________________________________________________________________\n",
            "dropout_2 (Dropout)             (None, 523, 15)      0           conv1d[0][0]                     \n",
            "__________________________________________________________________________________________________\n",
            "dropout_3 (Dropout)             (None, 521, 15)      0           conv1d_1[0][0]                   \n",
            "__________________________________________________________________________________________________\n",
            "dropout_4 (Dropout)             (None, 519, 15)      0           conv1d_2[0][0]                   \n",
            "__________________________________________________________________________________________________\n",
            "max_pooling1d (MaxPooling1D)    multiple             0           dropout_2[0][0]                  \n",
            "                                                                 dropout_3[0][0]                  \n",
            "                                                                 dropout_4[0][0]                  \n",
            "__________________________________________________________________________________________________\n",
            "flatten (Flatten)               (None, 3915)         0           max_pooling1d[0][0]              \n",
            "__________________________________________________________________________________________________\n",
            "flatten_1 (Flatten)             (None, 3900)         0           max_pooling1d[1][0]              \n",
            "__________________________________________________________________________________________________\n",
            "flatten_2 (Flatten)             (None, 3885)         0           max_pooling1d[2][0]              \n",
            "__________________________________________________________________________________________________\n",
            "concatenate (Concatenate)       (None, 11700)        0           flatten[0][0]                    \n",
            "                                                                 flatten_1[0][0]                  \n",
            "                                                                 flatten_2[0][0]                  \n",
            "__________________________________________________________________________________________________\n",
            "dense_3 (Dense)                 (None, 512)          5990912     concatenate[0][0]                \n",
            "__________________________________________________________________________________________________\n",
            "dense_4 (Dense)                 (None, 1)            513         dense_3[0][0]                    \n",
            "==================================================================================================\n",
            "Total params: 7,126,094\n",
            "Trainable params: 7,126,094\n",
            "Non-trainable params: 0\n",
            "__________________________________________________________________________________________________\n",
            "Epoch 1/4\n",
            "33/33 [==============================] - 19s 571ms/step - loss: 0.5226 - accuracy: 0.7794\n",
            "Epoch 2/4\n",
            "33/33 [==============================] - 19s 574ms/step - loss: 0.4299 - accuracy: 0.7982\n",
            "Epoch 3/4\n",
            "33/33 [==============================] - 19s 566ms/step - loss: 0.2159 - accuracy: 0.9080\n",
            "Epoch 4/4\n",
            "33/33 [==============================] - 18s 558ms/step - loss: 0.0684 - accuracy: 0.9810\n"
          ],
          "name": "stdout"
        }
      ]
    },
    {
      "cell_type": "code",
      "metadata": {
        "colab": {
          "base_uri": "https://localhost:8080/",
          "height": 383
        },
        "id": "sF3BDo1KNEQQ",
        "outputId": "f3a840d2-404d-47bb-ed13-3a472c264a8d"
      },
      "source": [
        "show_image('model_2.png')"
      ],
      "execution_count": null,
      "outputs": [
        {
          "output_type": "display_data",
          "data": {
            "image/png": "[encoded data removed]",
            "text/plain": [
              "<Figure size 576x720 with 1 Axes>"
            ]
          },
          "metadata": {
            "tags": [],
            "needs_background": "light"
          }
        }
      ]
    },
    {
      "cell_type": "code",
      "metadata": {
        "colab": {
          "base_uri": "https://localhost:8080/"
        },
        "id": "O1R-gwKvJm5N",
        "outputId": "2c05653b-f55d-4706-e443-e1caad000b69"
      },
      "source": [
        "from keras.models import load_model\n",
        "model = load_model('model.h5')\n",
        "testX = encode_text(tokenizer, docs_clean_test, length)\n",
        "loss, acc = model.evaluate([testX,testX,testX], data_labels_test, verbose=0)\n",
        "print('Accuracy de la prueba: %.2f' % (acc*100))"
      ],
      "execution_count": null,
      "outputs": [
        {
          "output_type": "stream",
          "text": [
            "Accuracy de la prueba: 77.74\n"
          ],
          "name": "stdout"
        }
      ]
    },
    {
      "cell_type": "code",
      "metadata": {
        "id": "5EGfVOi93TpN"
      },
      "source": [
        "data_labels_test[0], docs_clean_test[0], data_test.head()"
      ],
      "execution_count": null,
      "outputs": []
    },
    {
      "cell_type": "code",
      "metadata": {
        "colab": {
          "base_uri": "https://localhost:8080/"
        },
        "id": "3DiG-bGy8U-X",
        "outputId": "9ff54778-cde9-4296-ad97-0229d8d378db"
      },
      "source": [
        "text = 'El lugar es muy sucio e inseguro'\n",
        "xResult = encode_text(tokenizer, [text], length)\n",
        "result = model.predict([xResult, xResult, xResult])\n",
        "print(result)\n",
        "\n",
        "\n",
        "text = 'Excelente lugar, atencion de calidad'\n",
        "xResult = encode_text(tokenizer, [text], length)\n",
        "result = model.predict([xResult, xResult, xResult])\n",
        "print(result)\n",
        "\n",
        "\n",
        "text = 'Horrible experiencia, es muy chico y no se puede estar mucho tiempo'\n",
        "xResult = encode_text(tokenizer, [text], length)\n",
        "result = model.predict([xResult, xResult, xResult])\n",
        "print(result)\n",
        "\n",
        "text = 'El lugar es agradable pero muy caluroso, ya que casi no hay sombras lo que hace que sea insoportable estar mucho tiempo'\n",
        "xResult = encode_text(tokenizer, [text], length)\n",
        "result = model.predict([xResult, xResult, xResult])\n",
        "print(result[0])"
      ],
      "execution_count": null,
      "outputs": [
        {
          "output_type": "stream",
          "text": [
            "[[0.8499438  0.09867679 0.05137934]]\n",
            "[[0.83171    0.09708177 0.07120814]]\n",
            "[[0.60630435 0.32182738 0.07186824]]\n",
            "[0.4368877  0.47369394 0.08941838]\n"
          ],
          "name": "stdout"
        }
      ]
    }
  ]
}