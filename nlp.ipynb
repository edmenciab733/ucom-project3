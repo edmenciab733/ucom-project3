{
  "nbformat": 4,
  "nbformat_minor": 0,
  "metadata": {
    "colab": {
      "name": "nlp.ipynb",
      "provenance": [],
      "collapsed_sections": [],
      "toc_visible": true,
      "include_colab_link": true
    },
    "kernelspec": {
      "display_name": "Python 3",
      "name": "python3"
    }
  },
  "cells": [
    {
      "cell_type": "markdown",
      "metadata": {
        "id": "view-in-github",
        "colab_type": "text"
      },
      "source": [
        "<a href=\"https://colab.research.google.com/github/edmenciab733/ucom-project3/blob/main/nlp.ipynb\" target=\"_parent\"><img src=\"https://colab.research.google.com/assets/colab-badge.svg\" alt=\"Open In Colab\"/></a>"
      ]
    },
    {
      "cell_type": "markdown",
      "metadata": {
        "id": "8oXJ6bHdteDM"
      },
      "source": [
        "# Aspectos Generales\n",
        "\n",
        "\n"
      ]
    },
    {
      "cell_type": "code",
      "metadata": {
        "id": "bC5uaRr9e5-J"
      },
      "source": [
        "from google.colab import drive\n",
        "drive.mount('/content/drive')"
      ],
      "execution_count": null,
      "outputs": []
    },
    {
      "cell_type": "code",
      "metadata": {
        "id": "niwOlD1l11go"
      },
      "source": [
        "import pandas as pd\n",
        "from  google.colab import drive "
      ],
      "execution_count": null,
      "outputs": []
    },
    {
      "cell_type": "code",
      "metadata": {
        "colab": {
          "base_uri": "https://localhost:8080/"
        },
        "id": "CX9yX6zGApJX",
        "outputId": "7e6b8613-9e6c-47b4-c303-c41251c3b646"
      },
      "source": [
        "drive.mount(\"/content/drive\")"
      ],
      "execution_count": null,
      "outputs": [
        {
          "output_type": "stream",
          "text": [
            "Drive already mounted at /content/drive; to attempt to forcibly remount, call drive.mount(\"/content/drive\", force_remount=True).\n"
          ],
          "name": "stdout"
        }
      ]
    },
    {
      "cell_type": "code",
      "metadata": {
        "id": "78aKZGxAAw_w"
      },
      "source": [
        "data = pd.read_csv(\"/content/drive/My Drive/ML/reviews_original.csv\", sep=\"|\",  engine=\"python\")"
      ],
      "execution_count": null,
      "outputs": []
    },
    {
      "cell_type": "code",
      "metadata": {
        "colab": {
          "base_uri": "https://localhost:8080/",
          "height": 204
        },
        "id": "aMrN2yu0CtMf",
        "outputId": "d674ab11-80bc-4590-a4d0-d903e7fd3d7f"
      },
      "source": [
        "from sklearn.utils import shuffle\n",
        "df_test = shuffle(data)\n",
        "\n",
        "df_test.head()"
      ],
      "execution_count": null,
      "outputs": [
        {
          "output_type": "execute_result",
          "data": {
            "text/html": [
              "<div>\n",
              "<style scoped>\n",
              "    .dataframe tbody tr th:only-of-type {\n",
              "        vertical-align: middle;\n",
              "    }\n",
              "\n",
              "    .dataframe tbody tr th {\n",
              "        vertical-align: top;\n",
              "    }\n",
              "\n",
              "    .dataframe thead th {\n",
              "        text-align: right;\n",
              "    }\n",
              "</style>\n",
              "<table border=\"1\" class=\"dataframe\">\n",
              "  <thead>\n",
              "    <tr style=\"text-align: right;\">\n",
              "      <th></th>\n",
              "      <th>estrella</th>\n",
              "      <th>texto</th>\n",
              "      <th>lugar</th>\n",
              "    </tr>\n",
              "  </thead>\n",
              "  <tbody>\n",
              "    <tr>\n",
              "      <th>5198</th>\n",
              "      <td>50</td>\n",
              "      <td>Sin lugar a dudas me sorprendio. No sabia que ...</td>\n",
              "      <td>salto_monday</td>\n",
              "    </tr>\n",
              "    <tr>\n",
              "      <th>1733</th>\n",
              "      <td>30</td>\n",
              "      <td>La Costanera ofrece una bonita vista del la co...</td>\n",
              "      <td>costanera</td>\n",
              "    </tr>\n",
              "    <tr>\n",
              "      <th>2917</th>\n",
              "      <td>40</td>\n",
              "      <td>Es un lugar genial y agradable para pasar con ...</td>\n",
              "      <td>la_galeria</td>\n",
              "    </tr>\n",
              "    <tr>\n",
              "      <th>4623</th>\n",
              "      <td>40</td>\n",
              "      <td>Muy buen ambiente nocturno, con una oferta var...</td>\n",
              "      <td>paseo_carmelitas</td>\n",
              "    </tr>\n",
              "    <tr>\n",
              "      <th>3717</th>\n",
              "      <td>40</td>\n",
              "      <td>Eso es suficiente playa decente en todo su esp...</td>\n",
              "      <td>playa_sanjose</td>\n",
              "    </tr>\n",
              "  </tbody>\n",
              "</table>\n",
              "</div>"
            ],
            "text/plain": [
              "      estrella  ...              lugar\n",
              "5198        50  ...       salto_monday\n",
              "1733        30  ...          costanera\n",
              "2917        40  ...         la_galeria\n",
              "4623        40  ...  paseo_carmelitas \n",
              "3717        40  ...      playa_sanjose\n",
              "\n",
              "[5 rows x 3 columns]"
            ]
          },
          "metadata": {
            "tags": []
          },
          "execution_count": 48
        }
      ]
    },
    {
      "cell_type": "code",
      "metadata": {
        "id": "rdjsevpZGPO2"
      },
      "source": [
        "import matplotlib.pyplot as plt"
      ],
      "execution_count": null,
      "outputs": []
    },
    {
      "cell_type": "code",
      "metadata": {
        "colab": {
          "base_uri": "https://localhost:8080/",
          "height": 333
        },
        "id": "Zt-nTmKpHqJS",
        "outputId": "a45aa25d-3df8-43ca-930c-b8bf240b49a8"
      },
      "source": [
        "plt.hist(data['estrella'], color = \"orange\", lw=0)"
      ],
      "execution_count": null,
      "outputs": [
        {
          "output_type": "execute_result",
          "data": {
            "text/plain": [
              "(array([  88.,    0.,  180.,    0.,    0.,  975.,    0., 2122.,    0.,\n",
              "        2648.]),\n",
              " array([10., 14., 18., 22., 26., 30., 34., 38., 42., 46., 50.]),\n",
              " <a list of 10 Patch objects>)"
            ]
          },
          "metadata": {
            "tags": []
          },
          "execution_count": 50
        },
        {
          "output_type": "display_data",
          "data": {
            "image/png": "[encoded data removed]",
            "text/plain": [
              "<Figure size 432x288 with 1 Axes>"
            ]
          },
          "metadata": {
            "tags": [],
            "needs_background": "light"
          }
        }
      ]
    },
    {
      "cell_type": "code",
      "metadata": {
        "colab": {
          "base_uri": "https://localhost:8080/",
          "height": 204
        },
        "id": "c2QoKMqWKMOs",
        "outputId": "a5d4a663-305f-47b3-e9e7-d9f775271bf8"
      },
      "source": [
        "data['texto'] = data['texto'].str.strip()\n",
        "data.head()"
      ],
      "execution_count": null,
      "outputs": [
        {
          "output_type": "execute_result",
          "data": {
            "text/html": [
              "<div>\n",
              "<style scoped>\n",
              "    .dataframe tbody tr th:only-of-type {\n",
              "        vertical-align: middle;\n",
              "    }\n",
              "\n",
              "    .dataframe tbody tr th {\n",
              "        vertical-align: top;\n",
              "    }\n",
              "\n",
              "    .dataframe thead th {\n",
              "        text-align: right;\n",
              "    }\n",
              "</style>\n",
              "<table border=\"1\" class=\"dataframe\">\n",
              "  <thead>\n",
              "    <tr style=\"text-align: right;\">\n",
              "      <th></th>\n",
              "      <th>estrella</th>\n",
              "      <th>texto</th>\n",
              "      <th>lugar</th>\n",
              "    </tr>\n",
              "  </thead>\n",
              "  <tbody>\n",
              "    <tr>\n",
              "      <th>0</th>\n",
              "      <td>40</td>\n",
              "      <td>Abierto durante el dia normalment con alguien ...</td>\n",
              "      <td>recoleta</td>\n",
              "    </tr>\n",
              "    <tr>\n",
              "      <th>1</th>\n",
              "      <td>10</td>\n",
              "      <td>No se puede creer que un lugar historico y emb...</td>\n",
              "      <td>recoleta</td>\n",
              "    </tr>\n",
              "    <tr>\n",
              "      <th>2</th>\n",
              "      <td>40</td>\n",
              "      <td>Este cementerio esta ubicado en el corazon de ...</td>\n",
              "      <td>recoleta</td>\n",
              "    </tr>\n",
              "    <tr>\n",
              "      <th>3</th>\n",
              "      <td>30</td>\n",
              "      <td>La iglesia y el cementerio de antaño, recomend...</td>\n",
              "      <td>recoleta</td>\n",
              "    </tr>\n",
              "    <tr>\n",
              "      <th>4</th>\n",
              "      <td>20</td>\n",
              "      <td>Con el correr del tiempo y el rapido crecimien...</td>\n",
              "      <td>recoleta</td>\n",
              "    </tr>\n",
              "  </tbody>\n",
              "</table>\n",
              "</div>"
            ],
            "text/plain": [
              "   estrella                                              texto     lugar\n",
              "0        40  Abierto durante el dia normalment con alguien ...  recoleta\n",
              "1        10  No se puede creer que un lugar historico y emb...  recoleta\n",
              "2        40  Este cementerio esta ubicado en el corazon de ...  recoleta\n",
              "3        30  La iglesia y el cementerio de antaño, recomend...  recoleta\n",
              "4        20  Con el correr del tiempo y el rapido crecimien...  recoleta"
            ]
          },
          "metadata": {
            "tags": []
          },
          "execution_count": 51
        }
      ]
    },
    {
      "cell_type": "code",
      "metadata": {
        "id": "vK84hWwwmkk-"
      },
      "source": [
        "from sklearn.model_selection import train_test_split\n",
        "def my_train_test_split(x, y):\n",
        "  \n",
        "  X_train, X_test, y_train, y_test = train_test_split(x, y, test_size=0.30, random_state=42)\n",
        "  return X_train, X_test, y_train, y_test"
      ],
      "execution_count": null,
      "outputs": []
    },
    {
      "cell_type": "code",
      "metadata": {
        "colab": {
          "base_uri": "https://localhost:8080/",
          "height": 204
        },
        "id": "ahnSZ8X8nAbU",
        "outputId": "a5a64899-e44c-41ae-c1ef-19436275dce1"
      },
      "source": [
        "data.head()\n",
        "data_10 = data[data.estrella.eq(10)] \n",
        "data_20 = data[data.estrella.eq(20)]\n",
        "data_30 = data[data.estrella.eq(30)] \n",
        "data_40 = data[data.estrella.eq(40)] \n",
        "data_50=  data[data.estrella.eq(50)] \n",
        "data_50.head()\n"
      ],
      "execution_count": null,
      "outputs": [
        {
          "output_type": "execute_result",
          "data": {
            "text/html": [
              "<div>\n",
              "<style scoped>\n",
              "    .dataframe tbody tr th:only-of-type {\n",
              "        vertical-align: middle;\n",
              "    }\n",
              "\n",
              "    .dataframe tbody tr th {\n",
              "        vertical-align: top;\n",
              "    }\n",
              "\n",
              "    .dataframe thead th {\n",
              "        text-align: right;\n",
              "    }\n",
              "</style>\n",
              "<table border=\"1\" class=\"dataframe\">\n",
              "  <thead>\n",
              "    <tr style=\"text-align: right;\">\n",
              "      <th></th>\n",
              "      <th>estrella</th>\n",
              "      <th>texto</th>\n",
              "      <th>lugar</th>\n",
              "    </tr>\n",
              "  </thead>\n",
              "  <tbody>\n",
              "    <tr>\n",
              "      <th>8</th>\n",
              "      <td>50</td>\n",
              "      <td>Hay que estar atentos al Tour historico que of...</td>\n",
              "      <td>recoleta</td>\n",
              "    </tr>\n",
              "    <tr>\n",
              "      <th>11</th>\n",
              "      <td>50</td>\n",
              "      <td>El cementerio de La Recoleta es el mas tradici...</td>\n",
              "      <td>recoleta</td>\n",
              "    </tr>\n",
              "    <tr>\n",
              "      <th>14</th>\n",
              "      <td>50</td>\n",
              "      <td>El cementerio mas renombrado del pais por sus ...</td>\n",
              "      <td>recoleta</td>\n",
              "    </tr>\n",
              "    <tr>\n",
              "      <th>20</th>\n",
              "      <td>50</td>\n",
              "      <td>Es un lugar interesante para visitar, puedes v...</td>\n",
              "      <td>recoleta</td>\n",
              "    </tr>\n",
              "    <tr>\n",
              "      <th>22</th>\n",
              "      <td>50</td>\n",
              "      <td>Luego visitaremos este cementerio. Ver las dif...</td>\n",
              "      <td>recoleta</td>\n",
              "    </tr>\n",
              "  </tbody>\n",
              "</table>\n",
              "</div>"
            ],
            "text/plain": [
              "    estrella                                              texto     lugar\n",
              "8         50  Hay que estar atentos al Tour historico que of...  recoleta\n",
              "11        50  El cementerio de La Recoleta es el mas tradici...  recoleta\n",
              "14        50  El cementerio mas renombrado del pais por sus ...  recoleta\n",
              "20        50  Es un lugar interesante para visitar, puedes v...  recoleta\n",
              "22        50  Luego visitaremos este cementerio. Ver las dif...  recoleta"
            ]
          },
          "metadata": {
            "tags": []
          },
          "execution_count": 53
        }
      ]
    },
    {
      "cell_type": "code",
      "metadata": {
        "id": "WV__mSVlmsif"
      },
      "source": [
        "#X_train, X_test, y_train, y_test = []\n",
        "\n",
        "#10\n",
        "aux = data_10[data_10.estrella.eq(10)]\n",
        "X_train10, X_test10, y_train10, y_test10 = my_train_test_split(aux[['texto', 'lugar']], aux[\"estrella\"])\n",
        "\n",
        "#20\n",
        "aux = data_20[data_20.estrella.eq(20)]\n",
        "X_train20, X_test20, y_train20, y_test20 = my_train_test_split(aux[['texto', 'lugar']], aux[\"estrella\"])\n",
        "\n",
        "#30\n",
        "aux = data_30[data_30.estrella.eq(30)]\n",
        "X_train30, X_test30, y_train30, y_test30 = my_train_test_split(aux[['texto', 'lugar']], aux[\"estrella\"])\n",
        "\n",
        "\n",
        "#40\n",
        "aux = data_40[data_40.estrella.eq(40)]\n",
        "X_train40, X_test40, y_train40, y_test40 = my_train_test_split(aux[['texto', 'lugar']], aux[\"estrella\"])\n",
        "\n",
        "#50\n",
        "aux = data_50[data_50.estrella.eq(50)]\n",
        "X_train50, X_test50, y_train50, y_test50 = my_train_test_split(aux[['texto', 'lugar']], aux[\"estrella\"])\n",
        "\n",
        "\n",
        "\n",
        "data_train_x = pd.concat([X_train10, X_train20, X_train30, X_train40, X_train50], axis=0)\n",
        "data_test_x = pd.concat([X_test10, X_test20, X_test30, X_test40,X_test50] , axis=0)\n",
        "data_train_y = pd.concat([y_train10, y_train20, y_train30, y_train40, y_train50], axis=0)\n",
        "data_test_y = pd.concat([y_test10, y_test20, y_test30, y_test40,y_test50] , axis=0)\n",
        "data_train = pd.concat([data_train_x, data_train_y] , axis=1)\n",
        "data_test = pd.concat([data_test_x, data_test_y] , axis=1)\n"
      ],
      "execution_count": null,
      "outputs": []
    },
    {
      "cell_type": "code",
      "metadata": {
        "id": "4ujmH5n_ixho"
      },
      "source": [
        "start = 3\n",
        "data_labels_train = data_train.estrella.values\n",
        "data_labels_train[data_labels_train == 10] = 0\n",
        "data_labels_train[data_labels_train == 20] = 0\n",
        "data_labels_train[data_labels_train == 30] = 0\n",
        "data_labels_train[data_labels_train == 40] = 1\n",
        "data_labels_train[data_labels_train == 50] = 2\n",
        "\n",
        "data_labels_test = data_test.estrella.values\n",
        "data_labels_test[data_labels_test == 10] = 0\n",
        "data_labels_test[data_labels_test == 20] = 0\n",
        "data_labels_test[data_labels_test == 30] = 0\n",
        "data_labels_test[data_labels_test == 40] = 1\n",
        "data_labels_test[data_labels_test == 50] = 2"
      ],
      "execution_count": null,
      "outputs": []
    },
    {
      "cell_type": "markdown",
      "metadata": {
        "id": "toE1-eF42emH"
      },
      "source": [
        "# Limpieza de los datos"
      ]
    },
    {
      "cell_type": "code",
      "metadata": {
        "id": "tkLwGtePPTqX"
      },
      "source": [
        "from bs4 import BeautifulSoup\n",
        "import re\n",
        "def normalize(s):\n",
        "    replacements = (\n",
        "        (\"á\", \"a\"),\n",
        "        (\"é\", \"e\"),\n",
        "        (\"í\", \"i\"),\n",
        "        (\"ó\", \"o\"),\n",
        "        (\"ú\", \"u\"),\n",
        "    )\n",
        "    for a, b in replacements:\n",
        "        s = s.replace(a, b).replace(a.upper(), b.upper())\n",
        "    return s\n",
        "\n",
        "def limpiar_texto(text):\n",
        "  text = re.sub(r'^RT[\\s]+', '', text)\n",
        "  text = re.sub(r'https?:\\/\\/.*[\\r\\n]*', '', text)\n",
        "  text = re.sub(r'#', '', text)\n",
        "  text = re.sub(r'@[A-Za-z0-9]+', '', text)\n",
        "  return text\n",
        "\n",
        "def clean_text(text):\n",
        "    text = BeautifulSoup(text, \"lxml\").get_text()\n",
        "    # Eliminamos la @ y su mención\n",
        "    text = re.sub(r\"@[A-Za-z0-9]+\", ' ', text)\n",
        "    # Eliminamos los links de las URLs\n",
        "    text = re.sub(r\"https?://[A-Za-z0-9./]+\", ' ', text)\n",
        "    # Nos quedamos solamente con los caracteres\n",
        "    text = re.sub(r\"\\.\\.?\\.?\\s?\", ' ', text)\n",
        "    text = re.sub('([A-Za-z])\\,([A-Za-z])', '\\\\1, \\\\2', text)\n",
        "    text = re.sub('([A-Za-z])\\!([A-Za-z])', '\\\\1! \\\\2', text)\n",
        "    text = re.sub(r\"[^a-zA-ZñÑ.!?']\", ' ', text)\n",
        "    # Eliminamos espacios en blanco adicionales\n",
        "    text = re.sub(r\" +\", ' ', text)\n",
        "    text = text.lower()\n",
        "    text = normalize(text)\n",
        "    return text"
      ],
      "execution_count": null,
      "outputs": []
    },
    {
      "cell_type": "code",
      "metadata": {
        "id": "lNk4eDGCQI9z"
      },
      "source": [
        "data_clean_train = [clean_text(text) for text in data_train['texto']]\n",
        "data_clean_test = [clean_text(text) for text in data_test['texto']]"
      ],
      "execution_count": null,
      "outputs": []
    },
    {
      "cell_type": "code",
      "metadata": {
        "colab": {
          "base_uri": "https://localhost:8080/",
          "height": 37
        },
        "id": "qog3BXR7R3lU",
        "outputId": "b2a461fd-9e6d-41ce-d826-a789d14c56db"
      },
      "source": [
        "data_train.iloc[1006][\"texto\"]"
      ],
      "execution_count": null,
      "outputs": [
        {
          "output_type": "execute_result",
          "data": {
            "application/vnd.google.colaboratory.intrinsic+json": {
              "type": "string"
            },
            "text/plain": [
              "'Solo la recorrimos en automovil, es una zona nueva que se esta desarrollando, con zona para caminar y playa .'"
            ]
          },
          "metadata": {
            "tags": []
          },
          "execution_count": 58
        }
      ]
    },
    {
      "cell_type": "code",
      "metadata": {
        "colab": {
          "base_uri": "https://localhost:8080/",
          "height": 37
        },
        "id": "t5sX3tANcY9C",
        "outputId": "aad75972-8613-4d15-ac51-cb8045169779"
      },
      "source": [
        " data_clean_train[1006]"
      ],
      "execution_count": null,
      "outputs": [
        {
          "output_type": "execute_result",
          "data": {
            "application/vnd.google.colaboratory.intrinsic+json": {
              "type": "string"
            },
            "text/plain": [
              "'solo la recorrimos en automovil es una zona nueva que se esta desarrollando con zona para caminar y playa '"
            ]
          },
          "metadata": {
            "tags": []
          },
          "execution_count": 59
        }
      ]
    },
    {
      "cell_type": "markdown",
      "metadata": {
        "id": "U9HWWJI021iF"
      },
      "source": [
        "#Tokenizacion"
      ]
    },
    {
      "cell_type": "code",
      "metadata": {
        "colab": {
          "base_uri": "https://localhost:8080/"
        },
        "id": "TgcODhIMVB3_",
        "outputId": "1885b53a-9ff9-492b-88ae-3aa092b7e09a"
      },
      "source": [
        "import string\n",
        "import nltk\n",
        "nltk.download('stopwords')\n",
        "from nltk.corpus import stopwords\n",
        "from collections import Counter"
      ],
      "execution_count": null,
      "outputs": [
        {
          "output_type": "stream",
          "text": [
            "[nltk_data] Downloading package stopwords to /root/nltk_data...\n",
            "[nltk_data]   Package stopwords is already up-to-date!\n"
          ],
          "name": "stdout"
        }
      ]
    },
    {
      "cell_type": "code",
      "metadata": {
        "id": "1mAVgCYyRnPz"
      },
      "source": [
        "def create_bagWords(text):\n",
        "  tokens = text.split()\n",
        "  tokens = set(tokens)\n",
        "  re_punc = re.compile('[%s]' % re.escape(string.punctuation))\n",
        "  tokens = [re_punc.sub('', w) for w in tokens]\n",
        "  tokens = [word for word in tokens if word.isalpha()]\n",
        "  stop_words = set(stopwords.words('spanish'))\n",
        "  tokens = [w for w in tokens if not w in stop_words]\n",
        "  tokens = [word for word in tokens if len(word) > 1]\n",
        "  return tokens"
      ],
      "execution_count": null,
      "outputs": []
    },
    {
      "cell_type": "markdown",
      "metadata": {
        "id": "5PUVc3wxappF"
      },
      "source": [
        "## Creación del vocabulario"
      ]
    },
    {
      "cell_type": "code",
      "metadata": {
        "id": "fi5O2hsQVBaa",
        "colab": {
          "base_uri": "https://localhost:8080/"
        },
        "outputId": "46302c8d-a589-4283-b228-4fa42d1e3051"
      },
      "source": [
        "bagWords = []\n",
        "for text in data_clean_train + data_clean_test:\n",
        "  bagWords.append( create_bagWords(text))\n",
        "bagWords[1]"
      ],
      "execution_count": null,
      "outputs": [
        {
          "output_type": "execute_result",
          "data": {
            "text/plain": [
              "['espacios',\n",
              " 'plaza',\n",
              " 'ahi',\n",
              " 'minimas',\n",
              " 'humanas',\n",
              " 'muchas',\n",
              " 'copan',\n",
              " 'triste',\n",
              " 'armado',\n",
              " 'visita',\n",
              " 'inhumanas',\n",
              " 'vive',\n",
              " 'basura',\n",
              " 'vivien',\n",
              " 'carpas',\n",
              " 'chozas',\n",
              " 'cientos',\n",
              " 'hija',\n",
              " 'baño',\n",
              " 'personas',\n",
              " 'sirvio',\n",
              " 'niños',\n",
              " 'mostrarle',\n",
              " 'lamentablemente',\n",
              " 'mundo',\n",
              " 'condiciones',\n",
              " 'viven',\n",
              " 'bolsas']"
            ]
          },
          "metadata": {
            "tags": []
          },
          "execution_count": 62
        }
      ]
    },
    {
      "cell_type": "code",
      "metadata": {
        "id": "0ybIgicGh4LU"
      },
      "source": [
        "vocab = Counter()\n",
        "for token in bagWords:\n",
        "    vocab.update(token)"
      ],
      "execution_count": null,
      "outputs": []
    },
    {
      "cell_type": "code",
      "metadata": {
        "colab": {
          "base_uri": "https://localhost:8080/"
        },
        "id": "GdXI3_Xljk1T",
        "outputId": "8139be14-4ac6-4469-90b4-5d4c55c62ff3"
      },
      "source": [
        "print(\"Vocabulario Total del corpus: \"+ str(len(vocab)))\n",
        "# Imprimir las palabras principales en el vocabulario\n",
        "print(vocab.most_common(20))\n",
        "min_occurrence = 3\n",
        "my_vocabs = [k for k,c in vocab.items() if c >= min_occurrence]\n",
        "print(\"Vocabulario Optimizado del corpus: \"+ str(len(my_vocabs)))"
      ],
      "execution_count": null,
      "outputs": [
        {
          "output_type": "stream",
          "text": [
            "Vocabulario Total del corpus: 13533\n",
            "[('lugar', 1789), ('mas', 1192), ('asuncion', 1053), ('si', 935), ('bien', 809), ('ciudad', 728), ('paraguay', 723), ('puede', 700), ('visita', 685), ('paseo', 620), ('pena', 590), ('ver', 587), ('centro', 538), ('visitar', 527), ('ir', 517), ('historia', 507), ('solo', 506), ('vale', 499), ('costanera', 491), ('rio', 473)]\n",
            "Vocabulario Optimizado del corpus: 5038\n"
          ],
          "name": "stdout"
        }
      ]
    },
    {
      "cell_type": "code",
      "metadata": {
        "id": "05ZJ1I7foEsx"
      },
      "source": [
        "my_vocabs = set(my_vocabs)"
      ],
      "execution_count": null,
      "outputs": []
    },
    {
      "cell_type": "markdown",
      "metadata": {
        "id": "SOp9JXZlbLKl"
      },
      "source": [
        "##Construcción de una matriz de representacion de texto\n"
      ]
    },
    {
      "cell_type": "code",
      "metadata": {
        "id": "eL2owUeigYZ-",
        "colab": {
          "base_uri": "https://localhost:8080/"
        },
        "outputId": "1dab304d-cd61-42d2-cf17-9768e0ebe872"
      },
      "source": [
        "def clean_data_filter_vocab(text):\n",
        "  tokens = create_bagWords(text)\n",
        "  tokens = [w for w in tokens if w in my_vocabs]\n",
        "  return ' '.join(tokens)\n",
        "\n",
        "docs_clean_test = [clean_data_filter_vocab(text) for text in data_clean_test]\n",
        "docs_clean_train = [clean_data_filter_vocab(text) for text in data_clean_train]\n",
        "docs_clean_train[:10], data_labels_train[:10]"
      ],
      "execution_count": null,
      "outputs": [
        {
          "output_type": "execute_result",
          "data": {
            "text/plain": [
              "(['hacen ocupada pena necesidades indigenas',\n",
              "  'espacios plaza ahi muchas triste armado visita vive basura carpas cientos hija baño personas sirvio niños lamentablemente mundo condiciones viven bolsas',\n",
              "  'plaza centro cuidada punto tan ejemplo mal gusta verdad ser deberia estrategico',\n",
              "  'pobreza si rapidamente cosa abren ver lugar vender loma gusta puertas cualquier casas geronimo anda san olvidar observar',\n",
              "  'seguro vecinos comunes experiencia llegar mala sitio llena casas parecio ubicacion ningun admirar',\n",
              "  'lugar bahia atardecer apreciar tranquila pueden hermoso ciclismo barcos caminata tambien cerca excelente',\n",
              "  'caso sola centro abandonada ver lugar tour mejor mas ir solo definitivamente area',\n",
              "  'comerciantes plazas sucias tantas ambulantes cuidado llenas van parece jardineria paraguayas puestos',\n",
              "  'lado dejado unas existen justo encanto pareja perimetro veces dio lugar alrededor carteles orgullo anteriores verdad desorganizado enero llevar horrible adentro verg',\n",
              "  'calle todavia bueno dejaron ciudad entiendo unico si camara atraccion sacar shopping fotos torres hacia cambio quise seguridad bien comida locales economicos'],\n",
              " array([0, 0, 0, 0, 0, 0, 0, 0, 0, 0]))"
            ]
          },
          "metadata": {
            "tags": []
          },
          "execution_count": 66
        }
      ]
    },
    {
      "cell_type": "code",
      "metadata": {
        "id": "79AVYQej2P68"
      },
      "source": [
        "try:\n",
        "    %tensorflow_version 2.x\n",
        "except Exception:\n",
        "    pass\n",
        "import tensorflow as tf\n",
        "\n",
        "from tensorflow.keras import layers\n",
        "import tensorflow_datasets as tfds"
      ],
      "execution_count": null,
      "outputs": []
    },
    {
      "cell_type": "code",
      "metadata": {
        "id": "mAGXqo1axRre"
      },
      "source": [
        "from keras.preprocessing.text import Tokenizer\n",
        "def create_tokenizer(docs):\n",
        " tokenizer = Tokenizer()\n",
        " tokenizer.fit_on_texts(docs)\n",
        " return tokenizer"
      ],
      "execution_count": null,
      "outputs": []
    },
    {
      "cell_type": "code",
      "metadata": {
        "colab": {
          "base_uri": "https://localhost:8080/"
        },
        "id": "o5Y1SwaNqetQ",
        "outputId": "be42b330-0f5c-4207-898d-d12f3ed57aeb"
      },
      "source": [
        "tokenizer = create_tokenizer(docs_clean_train)\n",
        "# codificar datos\n",
        "X_trainToken = tokenizer.texts_to_matrix(docs_clean_train, mode='freq')\n",
        "X_testToken = tokenizer.texts_to_matrix(docs_clean_test, mode='freq')\n",
        "print(\"Vector-Documento del tamaño: \"+ str(len(X_trainToken[0])))\n",
        "for i, j  in enumerate(X_trainToken[0]):\n",
        "  if j > 0:\n",
        "    print(i, j)"
      ],
      "execution_count": null,
      "outputs": [
        {
          "output_type": "stream",
          "text": [
            "Vector-Documento del tamaño: 5008\n",
            "11 0.2\n",
            "250 0.2\n",
            "461 0.2\n",
            "1786 0.2\n",
            "2269 0.2\n"
          ],
          "name": "stdout"
        }
      ]
    },
    {
      "cell_type": "markdown",
      "metadata": {
        "id": "kvwCze_L7Ne0"
      },
      "source": [
        "# Construcción del Modelo - Bolsa de Palabras"
      ]
    },
    {
      "cell_type": "code",
      "metadata": {
        "id": "5jIy_6o9y9hI"
      },
      "source": [
        "from keras.utils.vis_utils import plot_model\n",
        "from keras.models import Sequential\n",
        "\n",
        "from keras.layers import Dense, Dropout\n",
        "def define_model(n_words, start):\n",
        "    if start == 2:\n",
        "      activation = 'sigmoid'\n",
        "      loss = 'binary_crossentropy'\n",
        "      start = 1\n",
        "    else:\n",
        "      activation = 'softmax'\n",
        "      loss = 'sparse_categorical_crossentropy'\n",
        "    # definir la red\n",
        "    model = Sequential()\n",
        "    model.add(Dense(50, input_shape=(n_words,), activation='relu'))\n",
        "    model.add(Dropout(0.2))\n",
        "    model.add(Dense(128, input_shape=(n_words,), activation='relu'))\n",
        "    model.add(Dropout(0.2))\n",
        "    model.add(Dense(start, activation=activation))\n",
        "\n",
        "\n",
        "    # compilar la red\n",
        "    model.compile(loss=loss, optimizer='adam', metrics=['accuracy'])\n",
        "    # resumir el modelo definido\n",
        "    model.summary()\n",
        "    plot_model(model, to_file='model_1.png', show_shapes=True)\n",
        "    return model"
      ],
      "execution_count": null,
      "outputs": []
    },
    {
      "cell_type": "code",
      "metadata": {
        "id": "0cAphXUTLEEP"
      },
      "source": [
        "import numpy as np\n",
        "import matplotlib.pyplot as plt\n",
        "import matplotlib.image as mpimg\n",
        "def show_image(path):\n",
        "  img = mpimg.imread(path)\n",
        "  plt.figure(figsize=(8,10))\n",
        "  imgplot = plt.imshow(img)\n",
        "  plt.show()\n"
      ],
      "execution_count": null,
      "outputs": []
    },
    {
      "cell_type": "code",
      "metadata": {
        "colab": {
          "base_uri": "https://localhost:8080/",
          "height": 1000
        },
        "id": "3RkQ9aHJ-cPk",
        "outputId": "56ed9cc8-a0ce-4b9b-9f78-7bbdd4b75710"
      },
      "source": [
        "n_words = X_testToken.shape[1]\n",
        "print(X_trainToken.shape, data_labels_train.shape)\n",
        "model = define_model(n_words, start)\n",
        "# red adecuada\n",
        "model.fit(X_trainToken, data_labels_train, epochs=7, verbose=2)\n",
        "show_image('model_1.png')"
      ],
      "execution_count": null,
      "outputs": [
        {
          "output_type": "stream",
          "text": [
            "(4207, 5008) (4207,)\n",
            "Model: \"sequential_1\"\n",
            "_________________________________________________________________\n",
            "Layer (type)                 Output Shape              Param #   \n",
            "=================================================================\n",
            "dense_3 (Dense)              (None, 50)                250450    \n",
            "_________________________________________________________________\n",
            "dropout_2 (Dropout)          (None, 50)                0         \n",
            "_________________________________________________________________\n",
            "dense_4 (Dense)              (None, 128)               6528      \n",
            "_________________________________________________________________\n",
            "dropout_3 (Dropout)          (None, 128)               0         \n",
            "_________________________________________________________________\n",
            "dense_5 (Dense)              (None, 3)                 387       \n",
            "=================================================================\n",
            "Total params: 257,365\n",
            "Trainable params: 257,365\n",
            "Non-trainable params: 0\n",
            "_________________________________________________________________\n",
            "Epoch 1/7\n",
            "132/132 - 0s - loss: 1.0517 - accuracy: 0.4395\n",
            "Epoch 2/7\n",
            "132/132 - 0s - loss: 0.9470 - accuracy: 0.5065\n",
            "Epoch 3/7\n",
            "132/132 - 0s - loss: 0.7488 - accuracy: 0.6865\n",
            "Epoch 4/7\n",
            "132/132 - 0s - loss: 0.5491 - accuracy: 0.7939\n",
            "Epoch 5/7\n",
            "132/132 - 0s - loss: 0.4019 - accuracy: 0.8555\n",
            "Epoch 6/7\n",
            "132/132 - 0s - loss: 0.2762 - accuracy: 0.9121\n",
            "Epoch 7/7\n",
            "132/132 - 0s - loss: 0.1960 - accuracy: 0.9422\n"
          ],
          "name": "stdout"
        },
        {
          "output_type": "display_data",
          "data": {
            "image/png": "[encoded data removed]",
            "text/plain": [
              "<Figure size 576x720 with 1 Axes>"
            ]
          },
          "metadata": {
            "tags": [],
            "needs_background": "light"
          }
        }
      ]
    },
    {
      "cell_type": "code",
      "metadata": {
        "colab": {
          "base_uri": "https://localhost:8080/"
        },
        "id": "fS4ksmNpt7Cy",
        "outputId": "a6f966fc-2a88-470c-b5f8-8084ea509586"
      },
      "source": [
        "# evaluar\n",
        "loss, acc = model.evaluate(X_testToken, data_labels_test, verbose=0)\n",
        "print('Precision del Test: %f' % (acc*100))"
      ],
      "execution_count": null,
      "outputs": [
        {
          "output_type": "stream",
          "text": [
            "Precision del Test: 57.862681\n"
          ],
          "name": "stdout"
        }
      ]
    },
    {
      "cell_type": "markdown",
      "metadata": {
        "id": "E6-RHkXN7rUm"
      },
      "source": [
        "Resultado del Modelo - Bolsa de Palabras"
      ]
    },
    {
      "cell_type": "code",
      "metadata": {
        "colab": {
          "base_uri": "https://localhost:8080/"
        },
        "id": "u5ausZE-b8T9",
        "outputId": "53778054-38ea-4d60-cd75-438ccf3f99ee"
      },
      "source": [
        "def predict_text(text, tokenizer, start):\n",
        "  print(text)\n",
        "  text = clean_text(text)\n",
        "  text = clean_data_filter_vocab(text)\n",
        "  encoded = tokenizer.texts_to_matrix([text], mode='freq')\n",
        "  yhat = model.predict(encoded, verbose=0)\n",
        "  yhat = yhat.reshape( start, 1)\n",
        "  yhat = [print(i* 100) for i in yhat]\n",
        "\n",
        "text = 'El lugar es muy sucio e inseguro'\n",
        "\n",
        "result  = predict_text(text, tokenizer, start)\n",
        "\n",
        "\n",
        "text = 'Excelente lugar, atencion de calidad'\n",
        "result  = predict_text(text, tokenizer, start)\n",
        "\n",
        "\n",
        "text = 'Horrible experiencia, es muy chico y no se puede estar mucho tiempo'\n",
        "result  = predict_text(text, tokenizer, start)\n",
        "\n",
        "\n",
        "text = 'El lugar es agradable pero muy caluroso, ya que casi no hay sombras lo que hace que sea insoportable estar mucho tiempo'\n",
        "result  = predict_text(text, tokenizer, start)"
      ],
      "execution_count": null,
      "outputs": [
        {
          "output_type": "stream",
          "text": [
            "El lugar es muy sucio e inseguro\n",
            "[97.90876]\n",
            "[1.8989427]\n",
            "[0.19230375]\n",
            "Excelente lugar, atencion de calidad\n",
            "[2.9725465e-05]\n",
            "[0.01815741]\n",
            "[99.98181]\n",
            "Horrible experiencia, es muy chico y no se puede estar mucho tiempo\n",
            "[97.46323]\n",
            "[2.2995267]\n",
            "[0.2372464]\n",
            "El lugar es agradable pero muy caluroso, ya que casi no hay sombras lo que hace que sea insoportable estar mucho tiempo\n",
            "[75.19195]\n",
            "[9.785641]\n",
            "[15.022418]\n"
          ],
          "name": "stdout"
        }
      ]
    },
    {
      "cell_type": "markdown",
      "metadata": {
        "id": "x1YJi7jXEFr-"
      },
      "source": [
        "# Construcción del Modelo - Embeddings"
      ]
    },
    {
      "cell_type": "markdown",
      "metadata": {
        "id": "WymKZvziphdm"
      },
      "source": [
        "## Construcción modelo n-grams"
      ]
    },
    {
      "cell_type": "code",
      "metadata": {
        "colab": {
          "base_uri": "https://localhost:8080/"
        },
        "id": "do0zlWeb7efz",
        "outputId": "f6b6004a-3f4a-452f-ac32-2813cc5ffd55"
      },
      "source": [
        "# calcular la longitud máxima del documento\n",
        "def max_length(docs):\n",
        "  max = -999\n",
        "  data_max = []\n",
        "  for i,s in enumerate(docs):\n",
        "    if len(s.split()) > max:\n",
        "      max = len(s.split())\n",
        "      data_max.clear()\n",
        "      data_max.append([max, s[:100], i])\n",
        "\n",
        "  return data_max[0]\n",
        "\n",
        "data_max = max_length(data_clean_train)\n",
        "length = data_max[0]\n",
        "print(data_max)"
      ],
      "execution_count": null,
      "outputs": [
        {
          "output_type": "stream",
          "text": [
            "[528, 'les voy a contar por que no pude visitar el parque nacional ybycui no fue por falta de ganas o predi', 26]\n"
          ],
          "name": "stdout"
        }
      ]
    },
    {
      "cell_type": "code",
      "metadata": {
        "id": "CX8U9-fPAtqA"
      },
      "source": [
        "data_clean_train = [clean_text(text) for text in data_train['texto']]\n",
        "data_clean_test = [clean_text(text) for text in data_test['texto']]\n",
        "tokenizer = create_tokenizer(data_clean_train)"
      ],
      "execution_count": null,
      "outputs": []
    },
    {
      "cell_type": "code",
      "metadata": {
        "colab": {
          "base_uri": "https://localhost:8080/"
        },
        "id": "yQ74fo8GHODi",
        "outputId": "5a6728c7-a023-42a4-fbf1-c67d504e2aee"
      },
      "source": [
        "vocab_size = len(tokenizer.word_index) + 1\n",
        "print(vocab_size)"
      ],
      "execution_count": null,
      "outputs": [
        {
          "output_type": "stream",
          "text": [
            "11699\n"
          ],
          "name": "stdout"
        }
      ]
    },
    {
      "cell_type": "code",
      "metadata": {
        "id": "iUmj3ck7Hb-Q"
      },
      "source": [
        "# codificar una lista de líneas\n",
        "from keras.preprocessing.sequence import pad_sequences\n",
        "def encode_text(tokenizer, doc, length):\n",
        " # codificación entera\n",
        " encoded = tokenizer.texts_to_sequences(doc)\n",
        " # secuencias codificadas por pads\n",
        " padded = pad_sequences(encoded, maxlen=length, padding='post')\n",
        " return padded"
      ],
      "execution_count": null,
      "outputs": []
    },
    {
      "cell_type": "code",
      "metadata": {
        "colab": {
          "base_uri": "https://localhost:8080/"
        },
        "id": "eDw5tpqrHjyQ",
        "outputId": "999c6691-5ba6-41f5-cad9-bb7d63bfa5d5"
      },
      "source": [
        "trainX = encode_text(tokenizer, data_clean_train, length)\n",
        "print(trainX.shape)"
      ],
      "execution_count": null,
      "outputs": [
        {
          "output_type": "stream",
          "text": [
            "(4207, 528)\n"
          ],
          "name": "stdout"
        }
      ]
    },
    {
      "cell_type": "code",
      "metadata": {
        "id": "GOdT_bjOIOpD"
      },
      "source": [
        "from keras.models import Model\n",
        "from keras.layers import Input\n",
        "from keras.layers import Dense\n",
        "from keras.layers import Flatten\n",
        "from keras.layers import Dropout\n",
        "from keras.layers import Embedding\n",
        "from keras.layers.convolutional import Conv1D\n",
        "from keras.layers.convolutional import MaxPooling1D\n",
        "from keras.layers.merge import concatenate\n",
        "# definir el modelo\n",
        "def define_model(length, vocab_size, embedding_dim, nro_filter, dropout_rate, start):\n",
        "  pool =  MaxPooling1D(pool_size=2)\n",
        "  # canal 1\n",
        "  inputs1 = Input(shape=(length,))\n",
        "  embedding1 = Embedding(vocab_size, embedding_dim)(inputs1)\n",
        "  sixgram = Conv1D(filters=nro_filter, kernel_size=6, activation='relu')(embedding1)\n",
        "  drop1 = Dropout(dropout_rate)(sixgram)\n",
        "  x = pool(drop1)\n",
        "  flat1 = Flatten()(x)\n",
        "  # canal 2\n",
        "  inputs2 = Input(shape=(length,))\n",
        "  embedding2 = Embedding(vocab_size, embedding_dim)(inputs2)\n",
        "  eigthgram = Conv1D(filters=nro_filter, kernel_size=8, activation='relu')(embedding2)\n",
        "  drop2 = Dropout(dropout_rate)(eigthgram)\n",
        "  x = pool(drop2)\n",
        "  flat2 = Flatten()(x)\n",
        " \n",
        "  # canal 3\n",
        "  inputs3 = Input(shape=(length,))\n",
        "  embedding3 = Embedding(vocab_size, embedding_dim)(inputs3)\n",
        "  tengram = Conv1D(filters=nro_filter, kernel_size=10, activation='relu')(embedding3)\n",
        "  drop3 = Dropout(dropout_rate)(tengram)\n",
        "  x = pool(drop3)\n",
        "  flat3 = Flatten()(x)\n",
        "  # unión\n",
        "  merged = concatenate([flat1, flat2, flat3])\n",
        "  # interpretacion\n",
        "  dense2 = Dense(512, activation='relu')(merged)\n",
        "  if start == 2:\n",
        "    activation = 'sigmoid'\n",
        "    loss = 'binary_crossentropy'\n",
        "    start = 1\n",
        "  else:\n",
        "    activation = 'softmax'\n",
        "    loss = 'sparse_categorical_crossentropy'\n",
        "\n",
        "\n",
        "  \n",
        "  outputs = Dense(start, activation=activation)(dense2)\n",
        "  model = Model(inputs=[inputs1, inputs2, inputs3], outputs=outputs)\n",
        "  # compilar\n",
        "  model.compile(loss=loss, optimizer='adam', metrics=['accuracy'])\n",
        "  # resumen\n",
        "  model.summary()\n",
        "  plot_model(model, show_shapes=True, to_file='model_2.png')\n",
        "  return model"
      ],
      "execution_count": null,
      "outputs": []
    },
    {
      "cell_type": "code",
      "metadata": {
        "colab": {
          "base_uri": "https://localhost:8080/"
        },
        "id": "1ggfp_n4IdXA",
        "outputId": "7f0d1af5-1364-42f1-bf1e-1c621e09077a"
      },
      "source": [
        "model = define_model(length, vocab_size, 32, 15, 0.1, start)\n",
        "model.fit([trainX,trainX,trainX], data_labels_train, epochs=4, batch_size=128)\n",
        "model.save('model.h5')"
      ],
      "execution_count": null,
      "outputs": [
        {
          "output_type": "stream",
          "text": [
            "Model: \"functional_1\"\n",
            "__________________________________________________________________________________________________\n",
            "Layer (type)                    Output Shape         Param #     Connected to                     \n",
            "==================================================================================================\n",
            "input_1 (InputLayer)            [(None, 528)]        0                                            \n",
            "__________________________________________________________________________________________________\n",
            "input_2 (InputLayer)            [(None, 528)]        0                                            \n",
            "__________________________________________________________________________________________________\n",
            "input_3 (InputLayer)            [(None, 528)]        0                                            \n",
            "__________________________________________________________________________________________________\n",
            "embedding (Embedding)           (None, 528, 32)      374368      input_1[0][0]                    \n",
            "__________________________________________________________________________________________________\n",
            "embedding_1 (Embedding)         (None, 528, 32)      374368      input_2[0][0]                    \n",
            "__________________________________________________________________________________________________\n",
            "embedding_2 (Embedding)         (None, 528, 32)      374368      input_3[0][0]                    \n",
            "__________________________________________________________________________________________________\n",
            "conv1d (Conv1D)                 (None, 523, 15)      2895        embedding[0][0]                  \n",
            "__________________________________________________________________________________________________\n",
            "conv1d_1 (Conv1D)               (None, 521, 15)      3855        embedding_1[0][0]                \n",
            "__________________________________________________________________________________________________\n",
            "conv1d_2 (Conv1D)               (None, 519, 15)      4815        embedding_2[0][0]                \n",
            "__________________________________________________________________________________________________\n",
            "dropout_4 (Dropout)             (None, 523, 15)      0           conv1d[0][0]                     \n",
            "__________________________________________________________________________________________________\n",
            "dropout_5 (Dropout)             (None, 521, 15)      0           conv1d_1[0][0]                   \n",
            "__________________________________________________________________________________________________\n",
            "dropout_6 (Dropout)             (None, 519, 15)      0           conv1d_2[0][0]                   \n",
            "__________________________________________________________________________________________________\n",
            "max_pooling1d (MaxPooling1D)    multiple             0           dropout_4[0][0]                  \n",
            "                                                                 dropout_5[0][0]                  \n",
            "                                                                 dropout_6[0][0]                  \n",
            "__________________________________________________________________________________________________\n",
            "flatten (Flatten)               (None, 3915)         0           max_pooling1d[0][0]              \n",
            "__________________________________________________________________________________________________\n",
            "flatten_1 (Flatten)             (None, 3900)         0           max_pooling1d[1][0]              \n",
            "__________________________________________________________________________________________________\n",
            "flatten_2 (Flatten)             (None, 3885)         0           max_pooling1d[2][0]              \n",
            "__________________________________________________________________________________________________\n",
            "concatenate (Concatenate)       (None, 11700)        0           flatten[0][0]                    \n",
            "                                                                 flatten_1[0][0]                  \n",
            "                                                                 flatten_2[0][0]                  \n",
            "__________________________________________________________________________________________________\n",
            "dense_6 (Dense)                 (None, 512)          5990912     concatenate[0][0]                \n",
            "__________________________________________________________________________________________________\n",
            "dense_7 (Dense)                 (None, 3)            1539        dense_6[0][0]                    \n",
            "==================================================================================================\n",
            "Total params: 7,127,120\n",
            "Trainable params: 7,127,120\n",
            "Non-trainable params: 0\n",
            "__________________________________________________________________________________________________\n",
            "Epoch 1/4\n",
            "33/33 [==============================] - 16s 496ms/step - loss: 1.0666 - accuracy: 0.4264\n",
            "Epoch 2/4\n",
            "33/33 [==============================] - 16s 492ms/step - loss: 0.9735 - accuracy: 0.5087\n",
            "Epoch 3/4\n",
            "33/33 [==============================] - 16s 493ms/step - loss: 0.6172 - accuracy: 0.7623\n",
            "Epoch 4/4\n",
            "33/33 [==============================] - 16s 494ms/step - loss: 0.1962 - accuracy: 0.9527\n"
          ],
          "name": "stdout"
        }
      ]
    },
    {
      "cell_type": "code",
      "metadata": {
        "colab": {
          "base_uri": "https://localhost:8080/",
          "height": 383
        },
        "id": "sF3BDo1KNEQQ",
        "outputId": "09647d0f-8fa0-434d-fc3e-963b6ee3e0c7"
      },
      "source": [
        "show_image('model_2.png')"
      ],
      "execution_count": null,
      "outputs": [
        {
          "output_type": "display_data",
          "data": {
            "image/png": "[encoded data removed]",
            "text/plain": [
              "<Figure size 576x720 with 1 Axes>"
            ]
          },
          "metadata": {
            "tags": [],
            "needs_background": "light"
          }
        }
      ]
    },
    {
      "cell_type": "code",
      "metadata": {
        "colab": {
          "base_uri": "https://localhost:8080/"
        },
        "id": "O1R-gwKvJm5N",
        "outputId": "5d130650-ce05-4c54-8628-4edd9dabdc1c"
      },
      "source": [
        "from keras.models import load_model\n",
        "model = load_model('model.h5')\n",
        "testX = encode_text(tokenizer, docs_clean_test, length)\n",
        "loss, acc = model.evaluate([testX,testX,testX], data_labels_test, verbose=0)\n",
        "print('Accuracy de la prueba: %.2f' % (acc*100))"
      ],
      "execution_count": null,
      "outputs": [
        {
          "output_type": "stream",
          "text": [
            "Accuracy de la prueba: 34.00\n"
          ],
          "name": "stdout"
        }
      ]
    },
    {
      "cell_type": "code",
      "metadata": {
        "id": "5EGfVOi93TpN",
        "colab": {
          "base_uri": "https://localhost:8080/"
        },
        "outputId": "c720f27f-1c9d-452a-8178-61bc76900da7"
      },
      "source": [
        "data_labels_test[0], docs_clean_test[0], data_test.head()"
      ],
      "execution_count": null,
      "outputs": [
        {
          "output_type": "execute_result",
          "data": {
            "text/plain": [
              "(0,\n",
              " 'omnibus baños terminal sucia paraguay asuncion',\n",
              "                                                   texto  ... estrella\n",
              " 5318  La Terminal de Omnibus de Asuncion es sucia, d...  ...        0\n",
              " 1     No se puede creer que un lugar historico y emb...  ...        0\n",
              " 1725  El contexto de la costanera de Asuncion es hor...  ...        0\n",
              " 1583  Es un paisaje controversial, entre una via bon...  ...        0\n",
              " 933   Cercado, en reparacion. Apenas pude ver un 10%...  ...        0\n",
              " \n",
              " [5 rows x 3 columns])"
            ]
          },
          "metadata": {
            "tags": []
          },
          "execution_count": 84
        }
      ]
    },
    {
      "cell_type": "code",
      "metadata": {
        "colab": {
          "base_uri": "https://localhost:8080/"
        },
        "id": "3DiG-bGy8U-X",
        "outputId": "6b1e5528-b3e6-41ae-d1f4-72ed4e320f0d"
      },
      "source": [
        "text = 'El lugar es muy sucio e inseguro'\n",
        "xResult = encode_text(tokenizer, [text], length)\n",
        "result = model.predict([xResult, xResult, xResult])\n",
        "print(result)\n",
        "\n",
        "\n",
        "text = 'Excelente lugar, atencion de calidad'\n",
        "xResult = encode_text(tokenizer, [text], length)\n",
        "result = model.predict([xResult, xResult, xResult])\n",
        "print(result)\n",
        "\n",
        "\n",
        "text = 'Horrible experiencia, es muy chico y no se puede estar mucho tiempo'\n",
        "xResult = encode_text(tokenizer, [text], length)\n",
        "result = model.predict([xResult, xResult, xResult])\n",
        "print(result)\n",
        "\n",
        "text = 'El lugar es agradable pero muy caluroso, ya que casi no hay sombras lo que hace que sea insoportable estar mucho tiempo'\n",
        "xResult = encode_text(tokenizer, [text], length)\n",
        "result = model.predict([xResult, xResult, xResult])\n",
        "print(result[0])"
      ],
      "execution_count": null,
      "outputs": [
        {
          "output_type": "stream",
          "text": [
            "[[0.86005116 0.1248055  0.01514334]]\n",
            "[[0.6660253  0.22601198 0.10796268]]\n",
            "[[0.77947336 0.18362883 0.03689775]]\n",
            "[0.6758089  0.21386737 0.11032369]\n"
          ],
          "name": "stdout"
        }
      ]
    }
  ]
}